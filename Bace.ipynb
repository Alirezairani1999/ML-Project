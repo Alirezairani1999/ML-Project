{
 "cells": [
  {
   "cell_type": "markdown",
   "id": "9d495b67",
   "metadata": {},
   "source": [
    "Biophysics Dataset\n",
    "\n",
    "The BACE dataset provides quantitative and qual itative (class) binding results contain 200 feature which discover from SMILES (Simplified Molecular Input Line Entry System) with rdkit library."
   ]
  },
  {
   "cell_type": "raw",
   "id": "c8f32bb4",
   "metadata": {},
   "source": [
    "libraries"
   ]
  },
  {
   "cell_type": "code",
   "execution_count": 3,
   "id": "1fcb031c",
   "metadata": {},
   "outputs": [],
   "source": [
    "import pandas as pd\n",
    "import numpy as np\n",
    "import matplotlib as plt\n",
    "import seaborn as sns\n",
    "import matplotlib.pyplot as plt\n",
    "from sklearn.model_selection import train_test_split\n",
    "from sklearn.preprocessing import StandardScaler\n",
    "import random\n",
    "from sklearn.linear_model import LogisticRegression\n",
    "from sklearn.metrics import accuracy_score\n",
    "from sklearn.metrics import confusion_matrix\n",
    "from sklearn.metrics import classification_report\n",
    "from sklearn.metrics import roc_curve, auc, roc_auc_score\n",
    "from bioinfokit.visuz import stat\n",
    "import sklearn.metrics as metrics\n",
    "from sklearn.model_selection import cross_val_score,KFold\n",
    "from sklearn.neighbors import KNeighborsClassifier\n",
    "import warnings\n",
    "warnings.filterwarnings('ignore')\n",
    "from decimal import Decimal\n",
    "np.random.seed(10)\n",
    "import seaborn as sns\n",
    "import matplotlib.pyplot as plt"
   ]
  },
  {
   "cell_type": "markdown",
   "id": "332393b3",
   "metadata": {},
   "source": [
    " Data Preprocessing"
   ]
  },
  {
   "cell_type": "code",
   "execution_count": 4,
   "id": "e6b9801b",
   "metadata": {},
   "outputs": [
    {
     "data": {
      "text/html": [
       "<div>\n",
       "<style scoped>\n",
       "    .dataframe tbody tr th:only-of-type {\n",
       "        vertical-align: middle;\n",
       "    }\n",
       "\n",
       "    .dataframe tbody tr th {\n",
       "        vertical-align: top;\n",
       "    }\n",
       "\n",
       "    .dataframe thead th {\n",
       "        text-align: right;\n",
       "    }\n",
       "</style>\n",
       "<table border=\"1\" class=\"dataframe\">\n",
       "  <thead>\n",
       "    <tr style=\"text-align: right;\">\n",
       "      <th></th>\n",
       "      <th>Class</th>\n",
       "      <th>BalabanJ</th>\n",
       "      <th>BertzCT</th>\n",
       "      <th>Chi0</th>\n",
       "      <th>Chi0n</th>\n",
       "      <th>Chi0v</th>\n",
       "      <th>Chi1</th>\n",
       "      <th>Chi1n</th>\n",
       "      <th>Chi1v</th>\n",
       "      <th>Chi2n</th>\n",
       "      <th>...</th>\n",
       "      <th>fr_sulfonamd</th>\n",
       "      <th>fr_sulfone</th>\n",
       "      <th>fr_term_acetylene</th>\n",
       "      <th>fr_tetrazole</th>\n",
       "      <th>fr_thiazole</th>\n",
       "      <th>fr_thiocyan</th>\n",
       "      <th>fr_thiophene</th>\n",
       "      <th>fr_unbrch_alkane</th>\n",
       "      <th>fr_urea</th>\n",
       "      <th>qed</th>\n",
       "    </tr>\n",
       "  </thead>\n",
       "  <tbody>\n",
       "    <tr>\n",
       "      <th>0</th>\n",
       "      <td>1</td>\n",
       "      <td>0.271693</td>\n",
       "      <td>0.685231</td>\n",
       "      <td>0.715429</td>\n",
       "      <td>0.780380</td>\n",
       "      <td>0.750726</td>\n",
       "      <td>0.689887</td>\n",
       "      <td>0.776209</td>\n",
       "      <td>0.716683</td>\n",
       "      <td>0.850783</td>\n",
       "      <td>...</td>\n",
       "      <td>1.590000e-17</td>\n",
       "      <td>5.770000e-14</td>\n",
       "      <td>2.960000e-11</td>\n",
       "      <td>0.168378</td>\n",
       "      <td>0.16738</td>\n",
       "      <td>1.480000e-18</td>\n",
       "      <td>2.320000e-16</td>\n",
       "      <td>4.700000e-08</td>\n",
       "      <td>0.166633</td>\n",
       "      <td>0.494794</td>\n",
       "    </tr>\n",
       "    <tr>\n",
       "      <th>1</th>\n",
       "      <td>1</td>\n",
       "      <td>0.392419</td>\n",
       "      <td>0.830920</td>\n",
       "      <td>0.964192</td>\n",
       "      <td>0.966658</td>\n",
       "      <td>0.963590</td>\n",
       "      <td>0.957524</td>\n",
       "      <td>0.968433</td>\n",
       "      <td>0.959626</td>\n",
       "      <td>0.970019</td>\n",
       "      <td>...</td>\n",
       "      <td>1.590000e-17</td>\n",
       "      <td>5.770000e-14</td>\n",
       "      <td>2.960000e-11</td>\n",
       "      <td>0.168378</td>\n",
       "      <td>0.16738</td>\n",
       "      <td>1.480000e-18</td>\n",
       "      <td>2.320000e-16</td>\n",
       "      <td>4.700000e-08</td>\n",
       "      <td>0.166633</td>\n",
       "      <td>0.072174</td>\n",
       "    </tr>\n",
       "    <tr>\n",
       "      <th>2</th>\n",
       "      <td>1</td>\n",
       "      <td>0.149225</td>\n",
       "      <td>0.951733</td>\n",
       "      <td>0.924019</td>\n",
       "      <td>0.927351</td>\n",
       "      <td>0.932271</td>\n",
       "      <td>0.923493</td>\n",
       "      <td>0.923177</td>\n",
       "      <td>0.942919</td>\n",
       "      <td>0.908699</td>\n",
       "      <td>...</td>\n",
       "      <td>9.999565e-01</td>\n",
       "      <td>5.770000e-14</td>\n",
       "      <td>2.960000e-11</td>\n",
       "      <td>0.168378</td>\n",
       "      <td>0.16738</td>\n",
       "      <td>1.480000e-18</td>\n",
       "      <td>2.320000e-16</td>\n",
       "      <td>4.700000e-08</td>\n",
       "      <td>0.166633</td>\n",
       "      <td>0.090157</td>\n",
       "    </tr>\n",
       "    <tr>\n",
       "      <th>3</th>\n",
       "      <td>1</td>\n",
       "      <td>0.577532</td>\n",
       "      <td>0.782187</td>\n",
       "      <td>0.924370</td>\n",
       "      <td>0.906913</td>\n",
       "      <td>0.913072</td>\n",
       "      <td>0.876879</td>\n",
       "      <td>0.885455</td>\n",
       "      <td>0.922284</td>\n",
       "      <td>0.928759</td>\n",
       "      <td>...</td>\n",
       "      <td>1.590000e-17</td>\n",
       "      <td>1.000000e+00</td>\n",
       "      <td>2.960000e-11</td>\n",
       "      <td>0.168378</td>\n",
       "      <td>0.16738</td>\n",
       "      <td>1.480000e-18</td>\n",
       "      <td>2.320000e-16</td>\n",
       "      <td>4.700000e-08</td>\n",
       "      <td>0.166633</td>\n",
       "      <td>0.121917</td>\n",
       "    </tr>\n",
       "    <tr>\n",
       "      <th>4</th>\n",
       "      <td>1</td>\n",
       "      <td>0.138106</td>\n",
       "      <td>0.967050</td>\n",
       "      <td>0.945002</td>\n",
       "      <td>0.930853</td>\n",
       "      <td>0.935559</td>\n",
       "      <td>0.936328</td>\n",
       "      <td>0.928579</td>\n",
       "      <td>0.946799</td>\n",
       "      <td>0.921161</td>\n",
       "      <td>...</td>\n",
       "      <td>9.999565e-01</td>\n",
       "      <td>5.770000e-14</td>\n",
       "      <td>2.960000e-11</td>\n",
       "      <td>0.168378</td>\n",
       "      <td>0.16738</td>\n",
       "      <td>1.480000e-18</td>\n",
       "      <td>2.320000e-16</td>\n",
       "      <td>4.700000e-08</td>\n",
       "      <td>0.166633</td>\n",
       "      <td>0.091591</td>\n",
       "    </tr>\n",
       "    <tr>\n",
       "      <th>...</th>\n",
       "      <td>...</td>\n",
       "      <td>...</td>\n",
       "      <td>...</td>\n",
       "      <td>...</td>\n",
       "      <td>...</td>\n",
       "      <td>...</td>\n",
       "      <td>...</td>\n",
       "      <td>...</td>\n",
       "      <td>...</td>\n",
       "      <td>...</td>\n",
       "      <td>...</td>\n",
       "      <td>...</td>\n",
       "      <td>...</td>\n",
       "      <td>...</td>\n",
       "      <td>...</td>\n",
       "      <td>...</td>\n",
       "      <td>...</td>\n",
       "      <td>...</td>\n",
       "      <td>...</td>\n",
       "      <td>...</td>\n",
       "      <td>...</td>\n",
       "    </tr>\n",
       "    <tr>\n",
       "      <th>1508</th>\n",
       "      <td>0</td>\n",
       "      <td>0.454177</td>\n",
       "      <td>0.285403</td>\n",
       "      <td>0.363414</td>\n",
       "      <td>0.400731</td>\n",
       "      <td>0.417194</td>\n",
       "      <td>0.367433</td>\n",
       "      <td>0.467942</td>\n",
       "      <td>0.441878</td>\n",
       "      <td>0.461865</td>\n",
       "      <td>...</td>\n",
       "      <td>1.590000e-17</td>\n",
       "      <td>5.770000e-14</td>\n",
       "      <td>2.960000e-11</td>\n",
       "      <td>0.168378</td>\n",
       "      <td>0.16738</td>\n",
       "      <td>1.480000e-18</td>\n",
       "      <td>2.320000e-16</td>\n",
       "      <td>4.700000e-08</td>\n",
       "      <td>0.166633</td>\n",
       "      <td>0.881469</td>\n",
       "    </tr>\n",
       "    <tr>\n",
       "      <th>1509</th>\n",
       "      <td>0</td>\n",
       "      <td>0.529157</td>\n",
       "      <td>0.426769</td>\n",
       "      <td>0.363414</td>\n",
       "      <td>0.349116</td>\n",
       "      <td>0.364863</td>\n",
       "      <td>0.367433</td>\n",
       "      <td>0.365803</td>\n",
       "      <td>0.342834</td>\n",
       "      <td>0.321668</td>\n",
       "      <td>...</td>\n",
       "      <td>1.590000e-17</td>\n",
       "      <td>5.770000e-14</td>\n",
       "      <td>2.960000e-11</td>\n",
       "      <td>0.168378</td>\n",
       "      <td>0.16738</td>\n",
       "      <td>1.480000e-18</td>\n",
       "      <td>2.320000e-16</td>\n",
       "      <td>4.700000e-08</td>\n",
       "      <td>0.166633</td>\n",
       "      <td>0.687048</td>\n",
       "    </tr>\n",
       "    <tr>\n",
       "      <th>1510</th>\n",
       "      <td>0</td>\n",
       "      <td>0.674842</td>\n",
       "      <td>0.243040</td>\n",
       "      <td>0.102538</td>\n",
       "      <td>0.099965</td>\n",
       "      <td>0.153671</td>\n",
       "      <td>0.103940</td>\n",
       "      <td>0.117028</td>\n",
       "      <td>0.142673</td>\n",
       "      <td>0.176755</td>\n",
       "      <td>...</td>\n",
       "      <td>1.590000e-17</td>\n",
       "      <td>5.770000e-14</td>\n",
       "      <td>2.960000e-11</td>\n",
       "      <td>0.168378</td>\n",
       "      <td>0.16738</td>\n",
       "      <td>1.480000e-18</td>\n",
       "      <td>2.320000e-16</td>\n",
       "      <td>4.700000e-08</td>\n",
       "      <td>0.166633</td>\n",
       "      <td>0.992109</td>\n",
       "    </tr>\n",
       "    <tr>\n",
       "      <th>1511</th>\n",
       "      <td>0</td>\n",
       "      <td>0.391085</td>\n",
       "      <td>0.499128</td>\n",
       "      <td>0.279238</td>\n",
       "      <td>0.310325</td>\n",
       "      <td>0.259058</td>\n",
       "      <td>0.318842</td>\n",
       "      <td>0.357431</td>\n",
       "      <td>0.281770</td>\n",
       "      <td>0.420804</td>\n",
       "      <td>...</td>\n",
       "      <td>1.590000e-17</td>\n",
       "      <td>5.770000e-14</td>\n",
       "      <td>2.960000e-11</td>\n",
       "      <td>0.168378</td>\n",
       "      <td>0.16738</td>\n",
       "      <td>1.480000e-18</td>\n",
       "      <td>2.320000e-16</td>\n",
       "      <td>4.700000e-08</td>\n",
       "      <td>0.166633</td>\n",
       "      <td>0.852794</td>\n",
       "    </tr>\n",
       "    <tr>\n",
       "      <th>1512</th>\n",
       "      <td>0</td>\n",
       "      <td>0.324566</td>\n",
       "      <td>0.214257</td>\n",
       "      <td>0.161372</td>\n",
       "      <td>0.175051</td>\n",
       "      <td>0.185417</td>\n",
       "      <td>0.177154</td>\n",
       "      <td>0.243427</td>\n",
       "      <td>0.225476</td>\n",
       "      <td>0.280951</td>\n",
       "      <td>...</td>\n",
       "      <td>1.590000e-17</td>\n",
       "      <td>5.770000e-14</td>\n",
       "      <td>2.960000e-11</td>\n",
       "      <td>0.168378</td>\n",
       "      <td>0.16738</td>\n",
       "      <td>1.480000e-18</td>\n",
       "      <td>2.320000e-16</td>\n",
       "      <td>4.700000e-08</td>\n",
       "      <td>0.166633</td>\n",
       "      <td>0.933513</td>\n",
       "    </tr>\n",
       "  </tbody>\n",
       "</table>\n",
       "<p>1513 rows × 201 columns</p>\n",
       "</div>"
      ],
      "text/plain": [
       "      Class  BalabanJ   BertzCT      Chi0     Chi0n     Chi0v      Chi1  \\\n",
       "0         1  0.271693  0.685231  0.715429  0.780380  0.750726  0.689887   \n",
       "1         1  0.392419  0.830920  0.964192  0.966658  0.963590  0.957524   \n",
       "2         1  0.149225  0.951733  0.924019  0.927351  0.932271  0.923493   \n",
       "3         1  0.577532  0.782187  0.924370  0.906913  0.913072  0.876879   \n",
       "4         1  0.138106  0.967050  0.945002  0.930853  0.935559  0.936328   \n",
       "...     ...       ...       ...       ...       ...       ...       ...   \n",
       "1508      0  0.454177  0.285403  0.363414  0.400731  0.417194  0.367433   \n",
       "1509      0  0.529157  0.426769  0.363414  0.349116  0.364863  0.367433   \n",
       "1510      0  0.674842  0.243040  0.102538  0.099965  0.153671  0.103940   \n",
       "1511      0  0.391085  0.499128  0.279238  0.310325  0.259058  0.318842   \n",
       "1512      0  0.324566  0.214257  0.161372  0.175051  0.185417  0.177154   \n",
       "\n",
       "         Chi1n     Chi1v     Chi2n  ...  fr_sulfonamd    fr_sulfone  \\\n",
       "0     0.776209  0.716683  0.850783  ...  1.590000e-17  5.770000e-14   \n",
       "1     0.968433  0.959626  0.970019  ...  1.590000e-17  5.770000e-14   \n",
       "2     0.923177  0.942919  0.908699  ...  9.999565e-01  5.770000e-14   \n",
       "3     0.885455  0.922284  0.928759  ...  1.590000e-17  1.000000e+00   \n",
       "4     0.928579  0.946799  0.921161  ...  9.999565e-01  5.770000e-14   \n",
       "...        ...       ...       ...  ...           ...           ...   \n",
       "1508  0.467942  0.441878  0.461865  ...  1.590000e-17  5.770000e-14   \n",
       "1509  0.365803  0.342834  0.321668  ...  1.590000e-17  5.770000e-14   \n",
       "1510  0.117028  0.142673  0.176755  ...  1.590000e-17  5.770000e-14   \n",
       "1511  0.357431  0.281770  0.420804  ...  1.590000e-17  5.770000e-14   \n",
       "1512  0.243427  0.225476  0.280951  ...  1.590000e-17  5.770000e-14   \n",
       "\n",
       "      fr_term_acetylene  fr_tetrazole  fr_thiazole   fr_thiocyan  \\\n",
       "0          2.960000e-11      0.168378      0.16738  1.480000e-18   \n",
       "1          2.960000e-11      0.168378      0.16738  1.480000e-18   \n",
       "2          2.960000e-11      0.168378      0.16738  1.480000e-18   \n",
       "3          2.960000e-11      0.168378      0.16738  1.480000e-18   \n",
       "4          2.960000e-11      0.168378      0.16738  1.480000e-18   \n",
       "...                 ...           ...          ...           ...   \n",
       "1508       2.960000e-11      0.168378      0.16738  1.480000e-18   \n",
       "1509       2.960000e-11      0.168378      0.16738  1.480000e-18   \n",
       "1510       2.960000e-11      0.168378      0.16738  1.480000e-18   \n",
       "1511       2.960000e-11      0.168378      0.16738  1.480000e-18   \n",
       "1512       2.960000e-11      0.168378      0.16738  1.480000e-18   \n",
       "\n",
       "      fr_thiophene  fr_unbrch_alkane   fr_urea       qed  \n",
       "0     2.320000e-16      4.700000e-08  0.166633  0.494794  \n",
       "1     2.320000e-16      4.700000e-08  0.166633  0.072174  \n",
       "2     2.320000e-16      4.700000e-08  0.166633  0.090157  \n",
       "3     2.320000e-16      4.700000e-08  0.166633  0.121917  \n",
       "4     2.320000e-16      4.700000e-08  0.166633  0.091591  \n",
       "...            ...               ...       ...       ...  \n",
       "1508  2.320000e-16      4.700000e-08  0.166633  0.881469  \n",
       "1509  2.320000e-16      4.700000e-08  0.166633  0.687048  \n",
       "1510  2.320000e-16      4.700000e-08  0.166633  0.992109  \n",
       "1511  2.320000e-16      4.700000e-08  0.166633  0.852794  \n",
       "1512  2.320000e-16      4.700000e-08  0.166633  0.933513  \n",
       "\n",
       "[1513 rows x 201 columns]"
      ]
     },
     "execution_count": 4,
     "metadata": {},
     "output_type": "execute_result"
    }
   ],
   "source": [
    "first_data=pd.read_csv(r'C:\\Users\\Administrator\\Desktop\\ml_project\\bace\\bace.csv')\n",
    "first_data"
   ]
  },
  {
   "cell_type": "code",
   "execution_count": 9,
   "id": "cdb3a4fe",
   "metadata": {},
   "outputs": [
    {
     "name": "stdout",
     "output_type": "stream",
     "text": [
      "<class 'pandas.core.frame.DataFrame'>\n",
      "RangeIndex: 1513 entries, 0 to 1512\n",
      "Columns: 201 entries, Class to qed\n",
      "dtypes: float64(199), int64(2)\n",
      "memory usage: 2.3 MB\n"
     ]
    }
   ],
   "source": [
    "first_data.info()"
   ]
  },
  {
   "cell_type": "markdown",
   "id": "c27763f3",
   "metadata": {},
   "source": [
    "Corrolation matrix"
   ]
  },
  {
   "cell_type": "code",
   "execution_count": 32,
   "id": "7cf561f7",
   "metadata": {},
   "outputs": [
    {
     "data": {
      "text/html": [
       "<div>\n",
       "<style scoped>\n",
       "    .dataframe tbody tr th:only-of-type {\n",
       "        vertical-align: middle;\n",
       "    }\n",
       "\n",
       "    .dataframe tbody tr th {\n",
       "        vertical-align: top;\n",
       "    }\n",
       "\n",
       "    .dataframe thead th {\n",
       "        text-align: right;\n",
       "    }\n",
       "</style>\n",
       "<table border=\"1\" class=\"dataframe\">\n",
       "  <thead>\n",
       "    <tr style=\"text-align: right;\">\n",
       "      <th></th>\n",
       "      <th>Class</th>\n",
       "      <th>BalabanJ</th>\n",
       "      <th>BertzCT</th>\n",
       "      <th>Chi0</th>\n",
       "      <th>Chi0n</th>\n",
       "      <th>Chi0v</th>\n",
       "      <th>Chi1</th>\n",
       "      <th>Chi1n</th>\n",
       "      <th>Chi1v</th>\n",
       "      <th>Chi2n</th>\n",
       "      <th>...</th>\n",
       "      <th>fr_sulfonamd</th>\n",
       "      <th>fr_sulfone</th>\n",
       "      <th>fr_term_acetylene</th>\n",
       "      <th>fr_tetrazole</th>\n",
       "      <th>fr_thiazole</th>\n",
       "      <th>fr_thiocyan</th>\n",
       "      <th>fr_thiophene</th>\n",
       "      <th>fr_unbrch_alkane</th>\n",
       "      <th>fr_urea</th>\n",
       "      <th>qed</th>\n",
       "    </tr>\n",
       "  </thead>\n",
       "  <tbody>\n",
       "    <tr>\n",
       "      <th>Class</th>\n",
       "      <td>1.000000</td>\n",
       "      <td>-0.079224</td>\n",
       "      <td>0.333083</td>\n",
       "      <td>0.319922</td>\n",
       "      <td>0.277821</td>\n",
       "      <td>0.259844</td>\n",
       "      <td>0.309376</td>\n",
       "      <td>0.242463</td>\n",
       "      <td>0.216254</td>\n",
       "      <td>0.214687</td>\n",
       "      <td>...</td>\n",
       "      <td>0.088555</td>\n",
       "      <td>-0.000095</td>\n",
       "      <td>0.049973</td>\n",
       "      <td>-0.033357</td>\n",
       "      <td>0.053855</td>\n",
       "      <td>NaN</td>\n",
       "      <td>-0.043751</td>\n",
       "      <td>0.004783</td>\n",
       "      <td>-0.051570</td>\n",
       "      <td>-0.236402</td>\n",
       "    </tr>\n",
       "    <tr>\n",
       "      <th>BalabanJ</th>\n",
       "      <td>-0.079224</td>\n",
       "      <td>1.000000</td>\n",
       "      <td>-0.460635</td>\n",
       "      <td>-0.427054</td>\n",
       "      <td>-0.482247</td>\n",
       "      <td>-0.493048</td>\n",
       "      <td>-0.489199</td>\n",
       "      <td>-0.547125</td>\n",
       "      <td>-0.544944</td>\n",
       "      <td>-0.535337</td>\n",
       "      <td>...</td>\n",
       "      <td>-0.154467</td>\n",
       "      <td>-0.019387</td>\n",
       "      <td>-0.009332</td>\n",
       "      <td>-0.000898</td>\n",
       "      <td>-0.144968</td>\n",
       "      <td>NaN</td>\n",
       "      <td>0.071965</td>\n",
       "      <td>0.134164</td>\n",
       "      <td>-0.086447</td>\n",
       "      <td>0.411230</td>\n",
       "    </tr>\n",
       "    <tr>\n",
       "      <th>BertzCT</th>\n",
       "      <td>0.333083</td>\n",
       "      <td>-0.460635</td>\n",
       "      <td>1.000000</td>\n",
       "      <td>0.832252</td>\n",
       "      <td>0.793486</td>\n",
       "      <td>0.785886</td>\n",
       "      <td>0.867423</td>\n",
       "      <td>0.759874</td>\n",
       "      <td>0.746105</td>\n",
       "      <td>0.688914</td>\n",
       "      <td>...</td>\n",
       "      <td>0.468098</td>\n",
       "      <td>0.036765</td>\n",
       "      <td>0.013276</td>\n",
       "      <td>0.008884</td>\n",
       "      <td>0.037319</td>\n",
       "      <td>NaN</td>\n",
       "      <td>-0.112757</td>\n",
       "      <td>-0.018124</td>\n",
       "      <td>-0.038876</td>\n",
       "      <td>-0.761368</td>\n",
       "    </tr>\n",
       "    <tr>\n",
       "      <th>Chi0</th>\n",
       "      <td>0.319922</td>\n",
       "      <td>-0.427054</td>\n",
       "      <td>0.832252</td>\n",
       "      <td>1.000000</td>\n",
       "      <td>0.978761</td>\n",
       "      <td>0.969604</td>\n",
       "      <td>0.987710</td>\n",
       "      <td>0.950288</td>\n",
       "      <td>0.932043</td>\n",
       "      <td>0.907895</td>\n",
       "      <td>...</td>\n",
       "      <td>0.388365</td>\n",
       "      <td>0.100591</td>\n",
       "      <td>0.026677</td>\n",
       "      <td>-0.002213</td>\n",
       "      <td>0.034493</td>\n",
       "      <td>NaN</td>\n",
       "      <td>-0.149273</td>\n",
       "      <td>0.105619</td>\n",
       "      <td>0.053204</td>\n",
       "      <td>-0.890523</td>\n",
       "    </tr>\n",
       "    <tr>\n",
       "      <th>Chi0n</th>\n",
       "      <td>0.277821</td>\n",
       "      <td>-0.482247</td>\n",
       "      <td>0.793486</td>\n",
       "      <td>0.978761</td>\n",
       "      <td>1.000000</td>\n",
       "      <td>0.988045</td>\n",
       "      <td>0.978118</td>\n",
       "      <td>0.988949</td>\n",
       "      <td>0.966977</td>\n",
       "      <td>0.959542</td>\n",
       "      <td>...</td>\n",
       "      <td>0.384233</td>\n",
       "      <td>0.096590</td>\n",
       "      <td>0.017257</td>\n",
       "      <td>0.003139</td>\n",
       "      <td>0.045301</td>\n",
       "      <td>NaN</td>\n",
       "      <td>-0.153110</td>\n",
       "      <td>0.106199</td>\n",
       "      <td>0.066391</td>\n",
       "      <td>-0.881820</td>\n",
       "    </tr>\n",
       "    <tr>\n",
       "      <th>...</th>\n",
       "      <td>...</td>\n",
       "      <td>...</td>\n",
       "      <td>...</td>\n",
       "      <td>...</td>\n",
       "      <td>...</td>\n",
       "      <td>...</td>\n",
       "      <td>...</td>\n",
       "      <td>...</td>\n",
       "      <td>...</td>\n",
       "      <td>...</td>\n",
       "      <td>...</td>\n",
       "      <td>...</td>\n",
       "      <td>...</td>\n",
       "      <td>...</td>\n",
       "      <td>...</td>\n",
       "      <td>...</td>\n",
       "      <td>...</td>\n",
       "      <td>...</td>\n",
       "      <td>...</td>\n",
       "      <td>...</td>\n",
       "      <td>...</td>\n",
       "    </tr>\n",
       "    <tr>\n",
       "      <th>fr_thiocyan</th>\n",
       "      <td>NaN</td>\n",
       "      <td>NaN</td>\n",
       "      <td>NaN</td>\n",
       "      <td>NaN</td>\n",
       "      <td>NaN</td>\n",
       "      <td>NaN</td>\n",
       "      <td>NaN</td>\n",
       "      <td>NaN</td>\n",
       "      <td>NaN</td>\n",
       "      <td>NaN</td>\n",
       "      <td>...</td>\n",
       "      <td>NaN</td>\n",
       "      <td>NaN</td>\n",
       "      <td>NaN</td>\n",
       "      <td>NaN</td>\n",
       "      <td>NaN</td>\n",
       "      <td>NaN</td>\n",
       "      <td>NaN</td>\n",
       "      <td>NaN</td>\n",
       "      <td>NaN</td>\n",
       "      <td>NaN</td>\n",
       "    </tr>\n",
       "    <tr>\n",
       "      <th>fr_thiophene</th>\n",
       "      <td>-0.043751</td>\n",
       "      <td>0.071965</td>\n",
       "      <td>-0.112757</td>\n",
       "      <td>-0.149273</td>\n",
       "      <td>-0.153110</td>\n",
       "      <td>-0.098819</td>\n",
       "      <td>-0.155322</td>\n",
       "      <td>-0.158022</td>\n",
       "      <td>-0.080588</td>\n",
       "      <td>-0.128759</td>\n",
       "      <td>...</td>\n",
       "      <td>-0.077647</td>\n",
       "      <td>-0.053910</td>\n",
       "      <td>0.047611</td>\n",
       "      <td>-0.007708</td>\n",
       "      <td>-0.031637</td>\n",
       "      <td>NaN</td>\n",
       "      <td>1.000000</td>\n",
       "      <td>-0.049055</td>\n",
       "      <td>-0.021201</td>\n",
       "      <td>0.140226</td>\n",
       "    </tr>\n",
       "    <tr>\n",
       "      <th>fr_unbrch_alkane</th>\n",
       "      <td>0.004783</td>\n",
       "      <td>0.134164</td>\n",
       "      <td>-0.018124</td>\n",
       "      <td>0.105619</td>\n",
       "      <td>0.106199</td>\n",
       "      <td>0.100975</td>\n",
       "      <td>0.100012</td>\n",
       "      <td>0.105696</td>\n",
       "      <td>0.099735</td>\n",
       "      <td>0.061225</td>\n",
       "      <td>...</td>\n",
       "      <td>0.066427</td>\n",
       "      <td>0.004012</td>\n",
       "      <td>0.071107</td>\n",
       "      <td>-0.008424</td>\n",
       "      <td>-0.034573</td>\n",
       "      <td>NaN</td>\n",
       "      <td>-0.049055</td>\n",
       "      <td>1.000000</td>\n",
       "      <td>0.157517</td>\n",
       "      <td>-0.175023</td>\n",
       "    </tr>\n",
       "    <tr>\n",
       "      <th>fr_urea</th>\n",
       "      <td>-0.051570</td>\n",
       "      <td>-0.086447</td>\n",
       "      <td>-0.038876</td>\n",
       "      <td>0.053204</td>\n",
       "      <td>0.066391</td>\n",
       "      <td>0.060073</td>\n",
       "      <td>0.053413</td>\n",
       "      <td>0.072496</td>\n",
       "      <td>0.059132</td>\n",
       "      <td>0.071243</td>\n",
       "      <td>...</td>\n",
       "      <td>-0.041057</td>\n",
       "      <td>-0.025462</td>\n",
       "      <td>-0.009671</td>\n",
       "      <td>-0.003641</td>\n",
       "      <td>-0.014942</td>\n",
       "      <td>NaN</td>\n",
       "      <td>-0.021201</td>\n",
       "      <td>0.157517</td>\n",
       "      <td>1.000000</td>\n",
       "      <td>-0.067524</td>\n",
       "    </tr>\n",
       "    <tr>\n",
       "      <th>qed</th>\n",
       "      <td>-0.236402</td>\n",
       "      <td>0.411230</td>\n",
       "      <td>-0.761368</td>\n",
       "      <td>-0.890523</td>\n",
       "      <td>-0.881820</td>\n",
       "      <td>-0.892956</td>\n",
       "      <td>-0.899254</td>\n",
       "      <td>-0.868977</td>\n",
       "      <td>-0.878142</td>\n",
       "      <td>-0.790472</td>\n",
       "      <td>...</td>\n",
       "      <td>-0.420008</td>\n",
       "      <td>-0.092222</td>\n",
       "      <td>-0.013834</td>\n",
       "      <td>-0.005450</td>\n",
       "      <td>-0.069596</td>\n",
       "      <td>NaN</td>\n",
       "      <td>0.140226</td>\n",
       "      <td>-0.175023</td>\n",
       "      <td>-0.067524</td>\n",
       "      <td>1.000000</td>\n",
       "    </tr>\n",
       "  </tbody>\n",
       "</table>\n",
       "<p>201 rows × 201 columns</p>\n",
       "</div>"
      ],
      "text/plain": [
       "                     Class  BalabanJ   BertzCT      Chi0     Chi0n     Chi0v  \\\n",
       "Class             1.000000 -0.079224  0.333083  0.319922  0.277821  0.259844   \n",
       "BalabanJ         -0.079224  1.000000 -0.460635 -0.427054 -0.482247 -0.493048   \n",
       "BertzCT           0.333083 -0.460635  1.000000  0.832252  0.793486  0.785886   \n",
       "Chi0              0.319922 -0.427054  0.832252  1.000000  0.978761  0.969604   \n",
       "Chi0n             0.277821 -0.482247  0.793486  0.978761  1.000000  0.988045   \n",
       "...                    ...       ...       ...       ...       ...       ...   \n",
       "fr_thiocyan            NaN       NaN       NaN       NaN       NaN       NaN   \n",
       "fr_thiophene     -0.043751  0.071965 -0.112757 -0.149273 -0.153110 -0.098819   \n",
       "fr_unbrch_alkane  0.004783  0.134164 -0.018124  0.105619  0.106199  0.100975   \n",
       "fr_urea          -0.051570 -0.086447 -0.038876  0.053204  0.066391  0.060073   \n",
       "qed              -0.236402  0.411230 -0.761368 -0.890523 -0.881820 -0.892956   \n",
       "\n",
       "                      Chi1     Chi1n     Chi1v     Chi2n  ...  fr_sulfonamd  \\\n",
       "Class             0.309376  0.242463  0.216254  0.214687  ...      0.088555   \n",
       "BalabanJ         -0.489199 -0.547125 -0.544944 -0.535337  ...     -0.154467   \n",
       "BertzCT           0.867423  0.759874  0.746105  0.688914  ...      0.468098   \n",
       "Chi0              0.987710  0.950288  0.932043  0.907895  ...      0.388365   \n",
       "Chi0n             0.978118  0.988949  0.966977  0.959542  ...      0.384233   \n",
       "...                    ...       ...       ...       ...  ...           ...   \n",
       "fr_thiocyan            NaN       NaN       NaN       NaN  ...           NaN   \n",
       "fr_thiophene     -0.155322 -0.158022 -0.080588 -0.128759  ...     -0.077647   \n",
       "fr_unbrch_alkane  0.100012  0.105696  0.099735  0.061225  ...      0.066427   \n",
       "fr_urea           0.053413  0.072496  0.059132  0.071243  ...     -0.041057   \n",
       "qed              -0.899254 -0.868977 -0.878142 -0.790472  ...     -0.420008   \n",
       "\n",
       "                  fr_sulfone  fr_term_acetylene  fr_tetrazole  fr_thiazole  \\\n",
       "Class              -0.000095           0.049973     -0.033357     0.053855   \n",
       "BalabanJ           -0.019387          -0.009332     -0.000898    -0.144968   \n",
       "BertzCT             0.036765           0.013276      0.008884     0.037319   \n",
       "Chi0                0.100591           0.026677     -0.002213     0.034493   \n",
       "Chi0n               0.096590           0.017257      0.003139     0.045301   \n",
       "...                      ...                ...           ...          ...   \n",
       "fr_thiocyan              NaN                NaN           NaN          NaN   \n",
       "fr_thiophene       -0.053910           0.047611     -0.007708    -0.031637   \n",
       "fr_unbrch_alkane    0.004012           0.071107     -0.008424    -0.034573   \n",
       "fr_urea            -0.025462          -0.009671     -0.003641    -0.014942   \n",
       "qed                -0.092222          -0.013834     -0.005450    -0.069596   \n",
       "\n",
       "                  fr_thiocyan  fr_thiophene  fr_unbrch_alkane   fr_urea  \\\n",
       "Class                     NaN     -0.043751          0.004783 -0.051570   \n",
       "BalabanJ                  NaN      0.071965          0.134164 -0.086447   \n",
       "BertzCT                   NaN     -0.112757         -0.018124 -0.038876   \n",
       "Chi0                      NaN     -0.149273          0.105619  0.053204   \n",
       "Chi0n                     NaN     -0.153110          0.106199  0.066391   \n",
       "...                       ...           ...               ...       ...   \n",
       "fr_thiocyan               NaN           NaN               NaN       NaN   \n",
       "fr_thiophene              NaN      1.000000         -0.049055 -0.021201   \n",
       "fr_unbrch_alkane          NaN     -0.049055          1.000000  0.157517   \n",
       "fr_urea                   NaN     -0.021201          0.157517  1.000000   \n",
       "qed                       NaN      0.140226         -0.175023 -0.067524   \n",
       "\n",
       "                       qed  \n",
       "Class            -0.236402  \n",
       "BalabanJ          0.411230  \n",
       "BertzCT          -0.761368  \n",
       "Chi0             -0.890523  \n",
       "Chi0n            -0.881820  \n",
       "...                    ...  \n",
       "fr_thiocyan            NaN  \n",
       "fr_thiophene      0.140226  \n",
       "fr_unbrch_alkane -0.175023  \n",
       "fr_urea          -0.067524  \n",
       "qed               1.000000  \n",
       "\n",
       "[201 rows x 201 columns]"
      ]
     },
     "execution_count": 32,
     "metadata": {},
     "output_type": "execute_result"
    }
   ],
   "source": [
    "corr_matrix = first_data.corr()\n",
    "corr_matrix"
   ]
  },
  {
   "cell_type": "code",
   "execution_count": 5,
   "id": "4662cdc8",
   "metadata": {
    "scrolled": true
   },
   "outputs": [
    {
     "data": {
      "text/html": [
       "<div>\n",
       "<style scoped>\n",
       "    .dataframe tbody tr th:only-of-type {\n",
       "        vertical-align: middle;\n",
       "    }\n",
       "\n",
       "    .dataframe tbody tr th {\n",
       "        vertical-align: top;\n",
       "    }\n",
       "\n",
       "    .dataframe thead th {\n",
       "        text-align: right;\n",
       "    }\n",
       "</style>\n",
       "<table border=\"1\" class=\"dataframe\">\n",
       "  <thead>\n",
       "    <tr style=\"text-align: right;\">\n",
       "      <th></th>\n",
       "      <th>Class</th>\n",
       "      <th>BalabanJ</th>\n",
       "      <th>BertzCT</th>\n",
       "      <th>Chi0</th>\n",
       "      <th>EState_VSA1</th>\n",
       "      <th>EState_VSA10</th>\n",
       "      <th>EState_VSA11</th>\n",
       "      <th>EState_VSA2</th>\n",
       "      <th>EState_VSA3</th>\n",
       "      <th>EState_VSA4</th>\n",
       "      <th>...</th>\n",
       "      <th>fr_sulfide</th>\n",
       "      <th>fr_sulfonamd</th>\n",
       "      <th>fr_sulfone</th>\n",
       "      <th>fr_term_acetylene</th>\n",
       "      <th>fr_tetrazole</th>\n",
       "      <th>fr_thiazole</th>\n",
       "      <th>fr_thiocyan</th>\n",
       "      <th>fr_thiophene</th>\n",
       "      <th>fr_unbrch_alkane</th>\n",
       "      <th>fr_urea</th>\n",
       "    </tr>\n",
       "  </thead>\n",
       "  <tbody>\n",
       "    <tr>\n",
       "      <th>0</th>\n",
       "      <td>1</td>\n",
       "      <td>0.271693</td>\n",
       "      <td>0.685231</td>\n",
       "      <td>0.715429</td>\n",
       "      <td>4.070000e-10</td>\n",
       "      <td>0.264870</td>\n",
       "      <td>6.890000e-07</td>\n",
       "      <td>0.779518</td>\n",
       "      <td>0.536603</td>\n",
       "      <td>0.756983</td>\n",
       "      <td>...</td>\n",
       "      <td>1.550000e-23</td>\n",
       "      <td>1.590000e-17</td>\n",
       "      <td>5.770000e-14</td>\n",
       "      <td>2.960000e-11</td>\n",
       "      <td>0.168378</td>\n",
       "      <td>0.16738</td>\n",
       "      <td>1.480000e-18</td>\n",
       "      <td>2.320000e-16</td>\n",
       "      <td>4.700000e-08</td>\n",
       "      <td>0.166633</td>\n",
       "    </tr>\n",
       "    <tr>\n",
       "      <th>1</th>\n",
       "      <td>1</td>\n",
       "      <td>0.392419</td>\n",
       "      <td>0.830920</td>\n",
       "      <td>0.964192</td>\n",
       "      <td>9.340848e-01</td>\n",
       "      <td>0.934238</td>\n",
       "      <td>6.890000e-07</td>\n",
       "      <td>0.985669</td>\n",
       "      <td>0.957047</td>\n",
       "      <td>0.454374</td>\n",
       "      <td>...</td>\n",
       "      <td>1.550000e-23</td>\n",
       "      <td>1.590000e-17</td>\n",
       "      <td>5.770000e-14</td>\n",
       "      <td>2.960000e-11</td>\n",
       "      <td>0.168378</td>\n",
       "      <td>0.16738</td>\n",
       "      <td>1.480000e-18</td>\n",
       "      <td>2.320000e-16</td>\n",
       "      <td>4.700000e-08</td>\n",
       "      <td>0.166633</td>\n",
       "    </tr>\n",
       "    <tr>\n",
       "      <th>2</th>\n",
       "      <td>1</td>\n",
       "      <td>0.149225</td>\n",
       "      <td>0.951733</td>\n",
       "      <td>0.924019</td>\n",
       "      <td>8.783593e-01</td>\n",
       "      <td>0.798711</td>\n",
       "      <td>6.890000e-07</td>\n",
       "      <td>0.413496</td>\n",
       "      <td>0.871830</td>\n",
       "      <td>0.816899</td>\n",
       "      <td>...</td>\n",
       "      <td>1.550000e-23</td>\n",
       "      <td>9.999565e-01</td>\n",
       "      <td>5.770000e-14</td>\n",
       "      <td>2.960000e-11</td>\n",
       "      <td>0.168378</td>\n",
       "      <td>0.16738</td>\n",
       "      <td>1.480000e-18</td>\n",
       "      <td>2.320000e-16</td>\n",
       "      <td>4.700000e-08</td>\n",
       "      <td>0.166633</td>\n",
       "    </tr>\n",
       "    <tr>\n",
       "      <th>3</th>\n",
       "      <td>1</td>\n",
       "      <td>0.577532</td>\n",
       "      <td>0.782187</td>\n",
       "      <td>0.924370</td>\n",
       "      <td>9.574360e-01</td>\n",
       "      <td>0.952547</td>\n",
       "      <td>6.890000e-07</td>\n",
       "      <td>0.957611</td>\n",
       "      <td>0.159301</td>\n",
       "      <td>0.563856</td>\n",
       "      <td>...</td>\n",
       "      <td>1.550000e-23</td>\n",
       "      <td>1.590000e-17</td>\n",
       "      <td>1.000000e+00</td>\n",
       "      <td>2.960000e-11</td>\n",
       "      <td>0.168378</td>\n",
       "      <td>0.16738</td>\n",
       "      <td>1.480000e-18</td>\n",
       "      <td>2.320000e-16</td>\n",
       "      <td>4.700000e-08</td>\n",
       "      <td>0.166633</td>\n",
       "    </tr>\n",
       "    <tr>\n",
       "      <th>4</th>\n",
       "      <td>1</td>\n",
       "      <td>0.138106</td>\n",
       "      <td>0.967050</td>\n",
       "      <td>0.945002</td>\n",
       "      <td>9.316988e-01</td>\n",
       "      <td>0.954729</td>\n",
       "      <td>6.890000e-07</td>\n",
       "      <td>0.804052</td>\n",
       "      <td>0.788742</td>\n",
       "      <td>0.747271</td>\n",
       "      <td>...</td>\n",
       "      <td>1.550000e-23</td>\n",
       "      <td>9.999565e-01</td>\n",
       "      <td>5.770000e-14</td>\n",
       "      <td>2.960000e-11</td>\n",
       "      <td>0.168378</td>\n",
       "      <td>0.16738</td>\n",
       "      <td>1.480000e-18</td>\n",
       "      <td>2.320000e-16</td>\n",
       "      <td>4.700000e-08</td>\n",
       "      <td>0.166633</td>\n",
       "    </tr>\n",
       "    <tr>\n",
       "      <th>...</th>\n",
       "      <td>...</td>\n",
       "      <td>...</td>\n",
       "      <td>...</td>\n",
       "      <td>...</td>\n",
       "      <td>...</td>\n",
       "      <td>...</td>\n",
       "      <td>...</td>\n",
       "      <td>...</td>\n",
       "      <td>...</td>\n",
       "      <td>...</td>\n",
       "      <td>...</td>\n",
       "      <td>...</td>\n",
       "      <td>...</td>\n",
       "      <td>...</td>\n",
       "      <td>...</td>\n",
       "      <td>...</td>\n",
       "      <td>...</td>\n",
       "      <td>...</td>\n",
       "      <td>...</td>\n",
       "      <td>...</td>\n",
       "      <td>...</td>\n",
       "    </tr>\n",
       "    <tr>\n",
       "      <th>1508</th>\n",
       "      <td>0</td>\n",
       "      <td>0.454177</td>\n",
       "      <td>0.285403</td>\n",
       "      <td>0.363414</td>\n",
       "      <td>4.070000e-10</td>\n",
       "      <td>0.264870</td>\n",
       "      <td>6.890000e-07</td>\n",
       "      <td>0.424202</td>\n",
       "      <td>0.776475</td>\n",
       "      <td>0.854796</td>\n",
       "      <td>...</td>\n",
       "      <td>1.550000e-23</td>\n",
       "      <td>1.590000e-17</td>\n",
       "      <td>5.770000e-14</td>\n",
       "      <td>2.960000e-11</td>\n",
       "      <td>0.168378</td>\n",
       "      <td>0.16738</td>\n",
       "      <td>1.480000e-18</td>\n",
       "      <td>2.320000e-16</td>\n",
       "      <td>4.700000e-08</td>\n",
       "      <td>0.166633</td>\n",
       "    </tr>\n",
       "    <tr>\n",
       "      <th>1509</th>\n",
       "      <td>0</td>\n",
       "      <td>0.529157</td>\n",
       "      <td>0.426769</td>\n",
       "      <td>0.363414</td>\n",
       "      <td>4.070000e-10</td>\n",
       "      <td>0.264870</td>\n",
       "      <td>6.890000e-07</td>\n",
       "      <td>0.424202</td>\n",
       "      <td>0.663689</td>\n",
       "      <td>0.561654</td>\n",
       "      <td>...</td>\n",
       "      <td>1.550000e-23</td>\n",
       "      <td>1.590000e-17</td>\n",
       "      <td>5.770000e-14</td>\n",
       "      <td>2.960000e-11</td>\n",
       "      <td>0.168378</td>\n",
       "      <td>0.16738</td>\n",
       "      <td>1.480000e-18</td>\n",
       "      <td>2.320000e-16</td>\n",
       "      <td>4.700000e-08</td>\n",
       "      <td>0.166633</td>\n",
       "    </tr>\n",
       "    <tr>\n",
       "      <th>1510</th>\n",
       "      <td>0</td>\n",
       "      <td>0.674842</td>\n",
       "      <td>0.243040</td>\n",
       "      <td>0.102538</td>\n",
       "      <td>4.070000e-10</td>\n",
       "      <td>0.264870</td>\n",
       "      <td>6.890000e-07</td>\n",
       "      <td>0.407802</td>\n",
       "      <td>0.323794</td>\n",
       "      <td>0.421338</td>\n",
       "      <td>...</td>\n",
       "      <td>1.550000e-23</td>\n",
       "      <td>1.590000e-17</td>\n",
       "      <td>5.770000e-14</td>\n",
       "      <td>2.960000e-11</td>\n",
       "      <td>0.168378</td>\n",
       "      <td>0.16738</td>\n",
       "      <td>1.480000e-18</td>\n",
       "      <td>2.320000e-16</td>\n",
       "      <td>4.700000e-08</td>\n",
       "      <td>0.166633</td>\n",
       "    </tr>\n",
       "    <tr>\n",
       "      <th>1511</th>\n",
       "      <td>0</td>\n",
       "      <td>0.391085</td>\n",
       "      <td>0.499128</td>\n",
       "      <td>0.279238</td>\n",
       "      <td>4.070000e-10</td>\n",
       "      <td>0.264870</td>\n",
       "      <td>6.890000e-07</td>\n",
       "      <td>0.573235</td>\n",
       "      <td>0.141578</td>\n",
       "      <td>0.314961</td>\n",
       "      <td>...</td>\n",
       "      <td>1.550000e-23</td>\n",
       "      <td>1.590000e-17</td>\n",
       "      <td>5.770000e-14</td>\n",
       "      <td>2.960000e-11</td>\n",
       "      <td>0.168378</td>\n",
       "      <td>0.16738</td>\n",
       "      <td>1.480000e-18</td>\n",
       "      <td>2.320000e-16</td>\n",
       "      <td>4.700000e-08</td>\n",
       "      <td>0.166633</td>\n",
       "    </tr>\n",
       "    <tr>\n",
       "      <th>1512</th>\n",
       "      <td>0</td>\n",
       "      <td>0.324566</td>\n",
       "      <td>0.214257</td>\n",
       "      <td>0.161372</td>\n",
       "      <td>4.070000e-10</td>\n",
       "      <td>0.264870</td>\n",
       "      <td>6.890000e-07</td>\n",
       "      <td>0.218593</td>\n",
       "      <td>0.776475</td>\n",
       "      <td>0.578299</td>\n",
       "      <td>...</td>\n",
       "      <td>1.550000e-23</td>\n",
       "      <td>1.590000e-17</td>\n",
       "      <td>5.770000e-14</td>\n",
       "      <td>2.960000e-11</td>\n",
       "      <td>0.168378</td>\n",
       "      <td>0.16738</td>\n",
       "      <td>1.480000e-18</td>\n",
       "      <td>2.320000e-16</td>\n",
       "      <td>4.700000e-08</td>\n",
       "      <td>0.166633</td>\n",
       "    </tr>\n",
       "  </tbody>\n",
       "</table>\n",
       "<p>1513 rows × 154 columns</p>\n",
       "</div>"
      ],
      "text/plain": [
       "      Class  BalabanJ   BertzCT      Chi0   EState_VSA1  EState_VSA10  \\\n",
       "0         1  0.271693  0.685231  0.715429  4.070000e-10      0.264870   \n",
       "1         1  0.392419  0.830920  0.964192  9.340848e-01      0.934238   \n",
       "2         1  0.149225  0.951733  0.924019  8.783593e-01      0.798711   \n",
       "3         1  0.577532  0.782187  0.924370  9.574360e-01      0.952547   \n",
       "4         1  0.138106  0.967050  0.945002  9.316988e-01      0.954729   \n",
       "...     ...       ...       ...       ...           ...           ...   \n",
       "1508      0  0.454177  0.285403  0.363414  4.070000e-10      0.264870   \n",
       "1509      0  0.529157  0.426769  0.363414  4.070000e-10      0.264870   \n",
       "1510      0  0.674842  0.243040  0.102538  4.070000e-10      0.264870   \n",
       "1511      0  0.391085  0.499128  0.279238  4.070000e-10      0.264870   \n",
       "1512      0  0.324566  0.214257  0.161372  4.070000e-10      0.264870   \n",
       "\n",
       "      EState_VSA11  EState_VSA2  EState_VSA3  EState_VSA4  ...    fr_sulfide  \\\n",
       "0     6.890000e-07     0.779518     0.536603     0.756983  ...  1.550000e-23   \n",
       "1     6.890000e-07     0.985669     0.957047     0.454374  ...  1.550000e-23   \n",
       "2     6.890000e-07     0.413496     0.871830     0.816899  ...  1.550000e-23   \n",
       "3     6.890000e-07     0.957611     0.159301     0.563856  ...  1.550000e-23   \n",
       "4     6.890000e-07     0.804052     0.788742     0.747271  ...  1.550000e-23   \n",
       "...            ...          ...          ...          ...  ...           ...   \n",
       "1508  6.890000e-07     0.424202     0.776475     0.854796  ...  1.550000e-23   \n",
       "1509  6.890000e-07     0.424202     0.663689     0.561654  ...  1.550000e-23   \n",
       "1510  6.890000e-07     0.407802     0.323794     0.421338  ...  1.550000e-23   \n",
       "1511  6.890000e-07     0.573235     0.141578     0.314961  ...  1.550000e-23   \n",
       "1512  6.890000e-07     0.218593     0.776475     0.578299  ...  1.550000e-23   \n",
       "\n",
       "      fr_sulfonamd    fr_sulfone  fr_term_acetylene  fr_tetrazole  \\\n",
       "0     1.590000e-17  5.770000e-14       2.960000e-11      0.168378   \n",
       "1     1.590000e-17  5.770000e-14       2.960000e-11      0.168378   \n",
       "2     9.999565e-01  5.770000e-14       2.960000e-11      0.168378   \n",
       "3     1.590000e-17  1.000000e+00       2.960000e-11      0.168378   \n",
       "4     9.999565e-01  5.770000e-14       2.960000e-11      0.168378   \n",
       "...            ...           ...                ...           ...   \n",
       "1508  1.590000e-17  5.770000e-14       2.960000e-11      0.168378   \n",
       "1509  1.590000e-17  5.770000e-14       2.960000e-11      0.168378   \n",
       "1510  1.590000e-17  5.770000e-14       2.960000e-11      0.168378   \n",
       "1511  1.590000e-17  5.770000e-14       2.960000e-11      0.168378   \n",
       "1512  1.590000e-17  5.770000e-14       2.960000e-11      0.168378   \n",
       "\n",
       "      fr_thiazole   fr_thiocyan  fr_thiophene  fr_unbrch_alkane   fr_urea  \n",
       "0         0.16738  1.480000e-18  2.320000e-16      4.700000e-08  0.166633  \n",
       "1         0.16738  1.480000e-18  2.320000e-16      4.700000e-08  0.166633  \n",
       "2         0.16738  1.480000e-18  2.320000e-16      4.700000e-08  0.166633  \n",
       "3         0.16738  1.480000e-18  2.320000e-16      4.700000e-08  0.166633  \n",
       "4         0.16738  1.480000e-18  2.320000e-16      4.700000e-08  0.166633  \n",
       "...           ...           ...           ...               ...       ...  \n",
       "1508      0.16738  1.480000e-18  2.320000e-16      4.700000e-08  0.166633  \n",
       "1509      0.16738  1.480000e-18  2.320000e-16      4.700000e-08  0.166633  \n",
       "1510      0.16738  1.480000e-18  2.320000e-16      4.700000e-08  0.166633  \n",
       "1511      0.16738  1.480000e-18  2.320000e-16      4.700000e-08  0.166633  \n",
       "1512      0.16738  1.480000e-18  2.320000e-16      4.700000e-08  0.166633  \n",
       "\n",
       "[1513 rows x 154 columns]"
      ]
     },
     "execution_count": 5,
     "metadata": {},
     "output_type": "execute_result"
    }
   ],
   "source": [
    " #This approach is fatsitc it looks at the previous column if the correlation is high it removes it\n",
    "\n",
    "# Create correlation matrix\n",
    "corr_matrix = first_data.corr().abs()\n",
    "\n",
    "# Select upper triangle of correlation matrix\n",
    "upper = corr_matrix.where(\n",
    "    np.triu(np.ones(corr_matrix.shape), k=1).astype(bool))\n",
    "\n",
    "# Find features with correlation greater than 0.90\n",
    "to_drop = [column for column in upper.columns if any(upper[column] > 0.90)]\n",
    "\n",
    "# Drop features\n",
    "data = first_data.drop(to_drop, axis=1)\n",
    "data"
   ]
  },
  {
   "cell_type": "code",
   "execution_count": 34,
   "id": "f17de260",
   "metadata": {},
   "outputs": [
    {
     "data": {
      "text/html": [
       "<div>\n",
       "<style scoped>\n",
       "    .dataframe tbody tr th:only-of-type {\n",
       "        vertical-align: middle;\n",
       "    }\n",
       "\n",
       "    .dataframe tbody tr th {\n",
       "        vertical-align: top;\n",
       "    }\n",
       "\n",
       "    .dataframe thead th {\n",
       "        text-align: right;\n",
       "    }\n",
       "</style>\n",
       "<table border=\"1\" class=\"dataframe\">\n",
       "  <thead>\n",
       "    <tr style=\"text-align: right;\">\n",
       "      <th></th>\n",
       "      <th>Class</th>\n",
       "      <th>BalabanJ</th>\n",
       "      <th>BertzCT</th>\n",
       "      <th>Chi0</th>\n",
       "      <th>EState_VSA1</th>\n",
       "      <th>EState_VSA10</th>\n",
       "      <th>EState_VSA11</th>\n",
       "      <th>EState_VSA2</th>\n",
       "      <th>EState_VSA3</th>\n",
       "      <th>EState_VSA4</th>\n",
       "      <th>...</th>\n",
       "      <th>fr_sulfide</th>\n",
       "      <th>fr_sulfonamd</th>\n",
       "      <th>fr_sulfone</th>\n",
       "      <th>fr_term_acetylene</th>\n",
       "      <th>fr_tetrazole</th>\n",
       "      <th>fr_thiazole</th>\n",
       "      <th>fr_thiocyan</th>\n",
       "      <th>fr_thiophene</th>\n",
       "      <th>fr_unbrch_alkane</th>\n",
       "      <th>fr_urea</th>\n",
       "    </tr>\n",
       "  </thead>\n",
       "  <tbody>\n",
       "    <tr>\n",
       "      <th>count</th>\n",
       "      <td>1513.000</td>\n",
       "      <td>1513.000</td>\n",
       "      <td>1513.000</td>\n",
       "      <td>1513.000</td>\n",
       "      <td>1513.000</td>\n",
       "      <td>1513.000</td>\n",
       "      <td>1513.000</td>\n",
       "      <td>1513.000</td>\n",
       "      <td>1513.000</td>\n",
       "      <td>1513.000</td>\n",
       "      <td>...</td>\n",
       "      <td>1513.000</td>\n",
       "      <td>1513.000</td>\n",
       "      <td>1513.000</td>\n",
       "      <td>1513.000</td>\n",
       "      <td>1513.000</td>\n",
       "      <td>1513.000</td>\n",
       "      <td>1513.0</td>\n",
       "      <td>1513.000</td>\n",
       "      <td>1513.000</td>\n",
       "      <td>1513.000</td>\n",
       "    </tr>\n",
       "    <tr>\n",
       "      <th>mean</th>\n",
       "      <td>0.457</td>\n",
       "      <td>0.483</td>\n",
       "      <td>0.650</td>\n",
       "      <td>0.694</td>\n",
       "      <td>0.711</td>\n",
       "      <td>0.617</td>\n",
       "      <td>0.006</td>\n",
       "      <td>0.633</td>\n",
       "      <td>0.522</td>\n",
       "      <td>0.571</td>\n",
       "      <td>...</td>\n",
       "      <td>0.022</td>\n",
       "      <td>0.144</td>\n",
       "      <td>0.061</td>\n",
       "      <td>0.009</td>\n",
       "      <td>0.169</td>\n",
       "      <td>0.186</td>\n",
       "      <td>0.0</td>\n",
       "      <td>0.043</td>\n",
       "      <td>0.049</td>\n",
       "      <td>0.175</td>\n",
       "    </tr>\n",
       "    <tr>\n",
       "      <th>std</th>\n",
       "      <td>0.498</td>\n",
       "      <td>0.220</td>\n",
       "      <td>0.215</td>\n",
       "      <td>0.241</td>\n",
       "      <td>0.306</td>\n",
       "      <td>0.303</td>\n",
       "      <td>0.077</td>\n",
       "      <td>0.269</td>\n",
       "      <td>0.268</td>\n",
       "      <td>0.248</td>\n",
       "      <td>...</td>\n",
       "      <td>0.148</td>\n",
       "      <td>0.351</td>\n",
       "      <td>0.239</td>\n",
       "      <td>0.096</td>\n",
       "      <td>0.030</td>\n",
       "      <td>0.122</td>\n",
       "      <td>0.0</td>\n",
       "      <td>0.203</td>\n",
       "      <td>0.213</td>\n",
       "      <td>0.083</td>\n",
       "    </tr>\n",
       "    <tr>\n",
       "      <th>min</th>\n",
       "      <td>0.000</td>\n",
       "      <td>0.024</td>\n",
       "      <td>0.008</td>\n",
       "      <td>0.003</td>\n",
       "      <td>0.000</td>\n",
       "      <td>0.000</td>\n",
       "      <td>0.000</td>\n",
       "      <td>0.100</td>\n",
       "      <td>0.020</td>\n",
       "      <td>0.000</td>\n",
       "      <td>...</td>\n",
       "      <td>0.000</td>\n",
       "      <td>0.000</td>\n",
       "      <td>0.000</td>\n",
       "      <td>0.000</td>\n",
       "      <td>0.168</td>\n",
       "      <td>0.167</td>\n",
       "      <td>0.0</td>\n",
       "      <td>0.000</td>\n",
       "      <td>0.000</td>\n",
       "      <td>0.167</td>\n",
       "    </tr>\n",
       "    <tr>\n",
       "      <th>25%</th>\n",
       "      <td>0.000</td>\n",
       "      <td>0.298</td>\n",
       "      <td>0.508</td>\n",
       "      <td>0.514</td>\n",
       "      <td>0.581</td>\n",
       "      <td>0.265</td>\n",
       "      <td>0.000</td>\n",
       "      <td>0.421</td>\n",
       "      <td>0.324</td>\n",
       "      <td>0.427</td>\n",
       "      <td>...</td>\n",
       "      <td>0.000</td>\n",
       "      <td>0.000</td>\n",
       "      <td>0.000</td>\n",
       "      <td>0.000</td>\n",
       "      <td>0.168</td>\n",
       "      <td>0.167</td>\n",
       "      <td>0.0</td>\n",
       "      <td>0.000</td>\n",
       "      <td>0.000</td>\n",
       "      <td>0.167</td>\n",
       "    </tr>\n",
       "    <tr>\n",
       "      <th>50%</th>\n",
       "      <td>0.000</td>\n",
       "      <td>0.505</td>\n",
       "      <td>0.656</td>\n",
       "      <td>0.743</td>\n",
       "      <td>0.852</td>\n",
       "      <td>0.704</td>\n",
       "      <td>0.000</td>\n",
       "      <td>0.608</td>\n",
       "      <td>0.520</td>\n",
       "      <td>0.591</td>\n",
       "      <td>...</td>\n",
       "      <td>0.000</td>\n",
       "      <td>0.000</td>\n",
       "      <td>0.000</td>\n",
       "      <td>0.000</td>\n",
       "      <td>0.168</td>\n",
       "      <td>0.167</td>\n",
       "      <td>0.0</td>\n",
       "      <td>0.000</td>\n",
       "      <td>0.000</td>\n",
       "      <td>0.167</td>\n",
       "    </tr>\n",
       "    <tr>\n",
       "      <th>75%</th>\n",
       "      <td>1.000</td>\n",
       "      <td>0.659</td>\n",
       "      <td>0.832</td>\n",
       "      <td>0.908</td>\n",
       "      <td>0.909</td>\n",
       "      <td>0.882</td>\n",
       "      <td>0.000</td>\n",
       "      <td>0.899</td>\n",
       "      <td>0.767</td>\n",
       "      <td>0.765</td>\n",
       "      <td>...</td>\n",
       "      <td>0.000</td>\n",
       "      <td>0.000</td>\n",
       "      <td>0.000</td>\n",
       "      <td>0.000</td>\n",
       "      <td>0.168</td>\n",
       "      <td>0.167</td>\n",
       "      <td>0.0</td>\n",
       "      <td>0.000</td>\n",
       "      <td>0.000</td>\n",
       "      <td>0.167</td>\n",
       "    </tr>\n",
       "    <tr>\n",
       "      <th>max</th>\n",
       "      <td>1.000</td>\n",
       "      <td>0.999</td>\n",
       "      <td>1.000</td>\n",
       "      <td>1.000</td>\n",
       "      <td>0.986</td>\n",
       "      <td>1.000</td>\n",
       "      <td>1.000</td>\n",
       "      <td>1.000</td>\n",
       "      <td>0.990</td>\n",
       "      <td>0.999</td>\n",
       "      <td>...</td>\n",
       "      <td>1.000</td>\n",
       "      <td>1.000</td>\n",
       "      <td>1.000</td>\n",
       "      <td>1.000</td>\n",
       "      <td>1.000</td>\n",
       "      <td>1.000</td>\n",
       "      <td>0.0</td>\n",
       "      <td>1.000</td>\n",
       "      <td>1.000</td>\n",
       "      <td>1.000</td>\n",
       "    </tr>\n",
       "  </tbody>\n",
       "</table>\n",
       "<p>8 rows × 154 columns</p>\n",
       "</div>"
      ],
      "text/plain": [
       "          Class  BalabanJ   BertzCT      Chi0  EState_VSA1  EState_VSA10  \\\n",
       "count  1513.000  1513.000  1513.000  1513.000     1513.000      1513.000   \n",
       "mean      0.457     0.483     0.650     0.694        0.711         0.617   \n",
       "std       0.498     0.220     0.215     0.241        0.306         0.303   \n",
       "min       0.000     0.024     0.008     0.003        0.000         0.000   \n",
       "25%       0.000     0.298     0.508     0.514        0.581         0.265   \n",
       "50%       0.000     0.505     0.656     0.743        0.852         0.704   \n",
       "75%       1.000     0.659     0.832     0.908        0.909         0.882   \n",
       "max       1.000     0.999     1.000     1.000        0.986         1.000   \n",
       "\n",
       "       EState_VSA11  EState_VSA2  EState_VSA3  EState_VSA4  ...  fr_sulfide  \\\n",
       "count      1513.000     1513.000     1513.000     1513.000  ...    1513.000   \n",
       "mean          0.006        0.633        0.522        0.571  ...       0.022   \n",
       "std           0.077        0.269        0.268        0.248  ...       0.148   \n",
       "min           0.000        0.100        0.020        0.000  ...       0.000   \n",
       "25%           0.000        0.421        0.324        0.427  ...       0.000   \n",
       "50%           0.000        0.608        0.520        0.591  ...       0.000   \n",
       "75%           0.000        0.899        0.767        0.765  ...       0.000   \n",
       "max           1.000        1.000        0.990        0.999  ...       1.000   \n",
       "\n",
       "       fr_sulfonamd  fr_sulfone  fr_term_acetylene  fr_tetrazole  fr_thiazole  \\\n",
       "count      1513.000    1513.000           1513.000      1513.000     1513.000   \n",
       "mean          0.144       0.061              0.009         0.169        0.186   \n",
       "std           0.351       0.239              0.096         0.030        0.122   \n",
       "min           0.000       0.000              0.000         0.168        0.167   \n",
       "25%           0.000       0.000              0.000         0.168        0.167   \n",
       "50%           0.000       0.000              0.000         0.168        0.167   \n",
       "75%           0.000       0.000              0.000         0.168        0.167   \n",
       "max           1.000       1.000              1.000         1.000        1.000   \n",
       "\n",
       "       fr_thiocyan  fr_thiophene  fr_unbrch_alkane   fr_urea  \n",
       "count       1513.0      1513.000          1513.000  1513.000  \n",
       "mean           0.0         0.043             0.049     0.175  \n",
       "std            0.0         0.203             0.213     0.083  \n",
       "min            0.0         0.000             0.000     0.167  \n",
       "25%            0.0         0.000             0.000     0.167  \n",
       "50%            0.0         0.000             0.000     0.167  \n",
       "75%            0.0         0.000             0.000     0.167  \n",
       "max            0.0         1.000             1.000     1.000  \n",
       "\n",
       "[8 rows x 154 columns]"
      ]
     },
     "execution_count": 34,
     "metadata": {},
     "output_type": "execute_result"
    }
   ],
   "source": [
    "a=data.describe()\n",
    "round(a,ndigits=3)\n"
   ]
  },
  {
   "cell_type": "code",
   "execution_count": 53,
   "id": "a557e6cd",
   "metadata": {},
   "outputs": [
    {
     "data": {
      "text/plain": [
       "0    822\n",
       "1    691\n",
       "Name: Class, dtype: int64"
      ]
     },
     "execution_count": 53,
     "metadata": {},
     "output_type": "execute_result"
    }
   ],
   "source": [
    "data['Class'].value_counts()"
   ]
  },
  {
   "cell_type": "code",
   "execution_count": 54,
   "id": "1548567c",
   "metadata": {},
   "outputs": [
    {
     "data": {
      "text/plain": [
       "<AxesSubplot:>"
      ]
     },
     "execution_count": 54,
     "metadata": {},
     "output_type": "execute_result"
    },
    {
     "data": {
      "image/png": "[encoded data removed]",
      "text/plain": [
       "<Figure size 432x288 with 1 Axes>"
      ]
     },
     "metadata": {
      "needs_background": "light"
     },
     "output_type": "display_data"
    }
   ],
   "source": [
    "data['Class'].value_counts().plot(kind='bar')"
   ]
  },
  {
   "cell_type": "markdown",
   "id": "c2e84d6f",
   "metadata": {},
   "source": [
    "Split Data"
   ]
  },
  {
   "cell_type": "code",
   "execution_count": 35,
   "id": "7c273380",
   "metadata": {},
   "outputs": [],
   "source": [
    "random.seed(10)"
   ]
  },
  {
   "cell_type": "code",
   "execution_count": 6,
   "id": "d1ac53b4",
   "metadata": {},
   "outputs": [],
   "source": [
    "Y=data.iloc[:,0]\n",
    "X=data.iloc[:,1:154]\n",
    "X_train, X_test, Y_train, Y_test = train_test_split(X, Y, test_size=0.2)\n"
   ]
  },
  {
   "cell_type": "raw",
   "id": "8724156b",
   "metadata": {},
   "source": [
    "We divide our dataset in two part 80% for train and 20% for test "
   ]
  },
  {
   "cell_type": "markdown",
   "id": "5bdc566f",
   "metadata": {},
   "source": [
    "Scaling data"
   ]
  },
  {
   "cell_type": "code",
   "execution_count": 7,
   "id": "0bd4cc49",
   "metadata": {},
   "outputs": [],
   "source": [
    "from sklearn.preprocessing import StandardScaler\n",
    "from sklearn.model_selection import train_test_split\n",
    "import random\n",
    "np.random.seed(10)\n",
    "scaler = StandardScaler()\n",
    "scaler.fit(X_train)\n",
    "X_train_scaled = scaler.transform(X_train)\n",
    "X_test_scaled = scaler.transform(X_test)"
   ]
  },
  {
   "cell_type": "raw",
   "id": "bf2e4cb0",
   "metadata": {},
   "source": [
    "we scaled our data because we are not aware of type of eacch feature."
   ]
  },
  {
   "cell_type": "markdown",
   "id": "4c91de2b",
   "metadata": {},
   "source": [
    "#################### Logistic Regresssion ##########################"
   ]
  },
  {
   "cell_type": "raw",
   "id": "25672d65",
   "metadata": {},
   "source": [
    "Logistic Regression is widely used as a classification technique. Let us consider the following regression equation where the response variable y is a categorical variable with two classes. The most basic and vastly used optimisation technique to minimise the above function is Gradient Descent."
   ]
  },
  {
   "cell_type": "code",
   "execution_count": 15,
   "id": "ab4c8cca",
   "metadata": {},
   "outputs": [],
   "source": [
    "from sklearn.linear_model import LogisticRegression\n",
    "from sklearn.metrics import accuracy_score\n",
    "from sklearn.metrics import confusion_matrix\n",
    "from sklearn.metrics import classification_report\n",
    "from sklearn.model_selection import cross_val_score\n",
    "from sklearn.model_selection import GridSearchCV\n",
    "from sklearn.pipeline import make_pipeline"
   ]
  },
  {
   "cell_type": "code",
   "execution_count": 38,
   "id": "0a4b9130",
   "metadata": {},
   "outputs": [
    {
     "name": "stdout",
     "output_type": "stream",
     "text": [
      "Cross Validation Scores are [0.76446281 0.77272727 0.80165289 0.76446281 0.78512397]\n",
      "Average Cross Validation score :0.7776859504132231\n",
      "SD of Cross Validation score :0.014170601817753925\n"
     ]
    }
   ],
   "source": [
    "#Train set cross validation\n",
    "logreg=LogisticRegression()\n",
    "kf=KFold(n_splits=5)\n",
    "score_logreg=cross_val_score(logreg,X_train_scaled,Y_train,cv=kf)\n",
    "print(\"Cross Validation Scores are {}\".format(score_logreg))\n",
    "print(\"Average Cross Validation score :{}\".format(score_logreg.mean()))\n",
    "print(\"SD of Cross Validation score :{}\".format(score_logreg.std()))"
   ]
  },
  {
   "cell_type": "raw",
   "id": "dfd6455a",
   "metadata": {},
   "source": [
    "SD of Cross Validation score is 0.01 that show us scores in each fold near together and variation in folds are not too much."
   ]
  },
  {
   "cell_type": "code",
   "execution_count": 39,
   "id": "d245099b",
   "metadata": {},
   "outputs": [
    {
     "name": "stdout",
     "output_type": "stream",
     "text": [
      "Accuracy score on test set is 0.759075907590759\n"
     ]
    }
   ],
   "source": [
    "#test set\n",
    "logreg.fit(X_train_scaled,Y_train)\n",
    "predict_lr=logreg.predict(X_test_scaled)\n",
    "print(\"Accuracy score on test set is {}\".format(accuracy_score(predict_lr,Y_test)))"
   ]
  },
  {
   "cell_type": "raw",
   "id": "8dc017cf",
   "metadata": {},
   "source": []
  },
  {
   "cell_type": "code",
   "execution_count": 40,
   "id": "4a0178f1",
   "metadata": {},
   "outputs": [
    {
     "name": "stdout",
     "output_type": "stream",
     "text": [
      "[[138  33]\n",
      " [ 40  92]]\n",
      "\n",
      "\n",
      "              precision    recall  f1-score   support\n",
      "\n",
      "           0       0.78      0.81      0.79       171\n",
      "           1       0.74      0.70      0.72       132\n",
      "\n",
      "    accuracy                           0.76       303\n",
      "   macro avg       0.76      0.75      0.75       303\n",
      "weighted avg       0.76      0.76      0.76       303\n",
      "\n"
     ]
    }
   ],
   "source": [
    "# counfusion Matrix\n",
    "print(confusion_matrix(Y_test, predict_lr))\n",
    "print(\"\\n\")\n",
    "print(classification_report(Y_test, predict_lr))"
   ]
  },
  {
   "cell_type": "markdown",
   "id": "a4fb34c1",
   "metadata": {},
   "source": [
    "Sensitivity : 0.74 = 92/125     specificity : 0.78 = 138/178\n",
    "Sensitivity refers to a test's ability to designate an individual with disease as positive.\n",
    "A highly sensitive test means that there are few false negative results, and thus fewer cases of disease are missed. The specificity of a test is its ability to designate an individual who does not have a disease as negative."
   ]
  },
  {
   "cell_type": "markdown",
   "id": "c450e4de",
   "metadata": {},
   "source": [
    "ROC Curve"
   ]
  },
  {
   "cell_type": "code",
   "execution_count": 30,
   "id": "9c18bcd1",
   "metadata": {},
   "outputs": [],
   "source": [
    "from sklearn.metrics import roc_curve, auc, roc_auc_score\n",
    "from bioinfokit.visuz import stat\n",
    "from itertools import cycle\n",
    "from sklearn import svm, datasets\n",
    "from sklearn.preprocessing import label_binarize\n",
    "from sklearn.multiclass import OneVsRestClassifier\n",
    "import sklearn.metrics as metrics"
   ]
  },
  {
   "cell_type": "code",
   "execution_count": 31,
   "id": "b254cda4",
   "metadata": {
    "scrolled": true
   },
   "outputs": [
    {
     "data": {
      "image/png": "[encoded data removed]",
      "text/plain": [
       "<Figure size 432x288 with 1 Axes>"
      ]
     },
     "metadata": {
      "needs_background": "light"
     },
     "output_type": "display_data"
    }
   ],
   "source": [
    "# calculate the fpr and tpr for all thresholds of the classification\n",
    "\n",
    "fpr, tpr, threshold = metrics.roc_curve(Y_test,predict_lr)\n",
    "roc_auc = metrics.auc(fpr, tpr)\n",
    "\n",
    "# method I: plt\n",
    "import matplotlib.pyplot as plt\n",
    "plt.title('Receiver Operating Characteristic')\n",
    "plt.plot(fpr, tpr, 'b', label = 'AUC = %0.2f' % roc_auc)\n",
    "plt.legend(loc = 'lower right')\n",
    "plt.plot([0, 1], [0, 1],'r--')\n",
    "plt.xlim([0, 1])\n",
    "plt.ylim([0, 1])\n",
    "plt.ylabel('True Positive Rate(sensitivity)')\n",
    "plt.xlabel('False Positive Rate(specificity)')\n",
    "plt.show()\n"
   ]
  },
  {
   "cell_type": "raw",
   "id": "bc5c75e0",
   "metadata": {},
   "source": [
    "The ROC curve shows the trade-off between sensitivity (or TPR) and specificity (1 – FPR). Classifiers that give curves closer to the top-left corner indicate a better performance. ... The closer the curve comes to the 45-degree diagonal of the ROC space, the less accurate the test."
   ]
  },
  {
   "cell_type": "markdown",
   "id": "0866cd18",
   "metadata": {},
   "source": [
    "#################### Suport Vector Machine ########################"
   ]
  },
  {
   "cell_type": "code",
   "execution_count": 1,
   "id": "272e6966",
   "metadata": {},
   "outputs": [],
   "source": [
    "from sklearn.svm import SVC\n",
    "from sklearn.model_selection import GridSearchCV"
   ]
  },
  {
   "cell_type": "code",
   "execution_count": 8,
   "id": "43137842",
   "metadata": {},
   "outputs": [
    {
     "name": "stdout",
     "output_type": "stream",
     "text": [
      "Fitting 5 folds for each of 16 candidates, totalling 80 fits\n",
      "0.8818181818181818\n"
     ]
    }
   ],
   "source": [
    "param_grid = {'C':[0.001,1,10,100], 'gamma':[1,0.1,0.01,0.001]}\n",
    "svc = SVC()\n",
    "clf_svc = GridSearchCV(svc, param_grid,verbose=1,cv=5)\n",
    "clf_svc.fit(X_train_scaled, Y_train)\n",
    "print(clf_svc.score(X_train_scaled, Y_train))\n",
    "predict_svc=clf_svc.predict(X_test_scaled)"
   ]
  },
  {
   "cell_type": "code",
   "execution_count": 36,
   "id": "ed9d55bb",
   "metadata": {},
   "outputs": [
    {
     "data": {
      "text/plain": [
       "{'C': 1, 'gamma': 0.01}"
      ]
     },
     "execution_count": 36,
     "metadata": {},
     "output_type": "execute_result"
    }
   ],
   "source": [
    "clf_svc.best_params_"
   ]
  },
  {
   "cell_type": "raw",
   "id": "423c3ac9",
   "metadata": {},
   "source": [
    "best parametrs for SVM Model are C = 1 and gamma = 0.01"
   ]
  },
  {
   "cell_type": "code",
   "execution_count": 44,
   "id": "0cb98b5f",
   "metadata": {},
   "outputs": [
    {
     "name": "stdout",
     "output_type": "stream",
     "text": [
      "0.8151815181518152\n"
     ]
    }
   ],
   "source": [
    "print(clf_svc.score(X_test_scaled, Y_test))"
   ]
  },
  {
   "cell_type": "raw",
   "id": "22ce4cf7",
   "metadata": {},
   "source": [
    "Accuracy score on test set is less that training set and it shows overfitting."
   ]
  },
  {
   "cell_type": "code",
   "execution_count": 45,
   "id": "16a886fe",
   "metadata": {
    "scrolled": true
   },
   "outputs": [
    {
     "name": "stdout",
     "output_type": "stream",
     "text": [
      "[[146  25]\n",
      " [ 31 101]]\n",
      "\n",
      "\n",
      "              precision    recall  f1-score   support\n",
      "\n",
      "           0       0.82      0.85      0.84       171\n",
      "           1       0.80      0.77      0.78       132\n",
      "\n",
      "    accuracy                           0.82       303\n",
      "   macro avg       0.81      0.81      0.81       303\n",
      "weighted avg       0.81      0.82      0.81       303\n",
      "\n"
     ]
    }
   ],
   "source": [
    "# counfusion Matrix\n",
    "print(confusion_matrix(Y_test, predict_svc))\n",
    "print(\"\\n\")\n",
    "print(classification_report(Y_test, predict_svc))"
   ]
  },
  {
   "cell_type": "raw",
   "id": "abd68ecf",
   "metadata": {},
   "source": [
    "Sensitivity in svm model is 0.80 and specificity is 0.82  "
   ]
  },
  {
   "cell_type": "markdown",
   "id": "2a5af11a",
   "metadata": {},
   "source": [
    "ROC CURVE"
   ]
  },
  {
   "cell_type": "code",
   "execution_count": 46,
   "id": "19ba3804",
   "metadata": {},
   "outputs": [
    {
     "data": {
      "image/png": "[encoded data removed]",
      "text/plain": [
       "<Figure size 432x288 with 1 Axes>"
      ]
     },
     "metadata": {
      "needs_background": "light"
     },
     "output_type": "display_data"
    }
   ],
   "source": [
    "# calculate the fpr and tpr for all thresholds of the classification\n",
    "\n",
    "fpr, tpr, threshold = metrics.roc_curve(Y_test,predict_svc)\n",
    "roc_auc = metrics.auc(fpr, tpr)\n",
    "\n",
    "# method I: plt\n",
    "import matplotlib.pyplot as plt\n",
    "plt.title('Receiver Operating Characteristic')\n",
    "plt.plot(fpr, tpr, 'b', label = 'AUC = %0.2f' % roc_auc)\n",
    "plt.legend(loc = 'lower right')\n",
    "plt.plot([0, 1], [0, 1],'r--')\n",
    "plt.xlim([0, 1])\n",
    "plt.ylim([0, 1])\n",
    "plt.ylabel('True Positive Rate(sensitivity)')\n",
    "plt.xlabel('False Positive Rate')\n",
    "plt.show()\n"
   ]
  },
  {
   "cell_type": "markdown",
   "id": "cdeec27b",
   "metadata": {},
   "source": [
    "#################################### Decision Tree #####################################"
   ]
  },
  {
   "cell_type": "code",
   "execution_count": 15,
   "id": "5b6e073c",
   "metadata": {},
   "outputs": [],
   "source": [
    "from sklearn import tree\n",
    "from sklearn.tree import DecisionTreeClassifier\n",
    "from sklearn.tree import plot_tree\n",
    "from sklearn.model_selection import GridSearchCV"
   ]
  },
  {
   "cell_type": "code",
   "execution_count": 47,
   "id": "f04b5095",
   "metadata": {},
   "outputs": [
    {
     "name": "stdout",
     "output_type": "stream",
     "text": [
      "Fitting 5 folds for each of 340 candidates, totalling 1700 fits\n",
      "0.8314049586776859\n"
     ]
    }
   ],
   "source": [
    "param_grid = {'max_depth':range(3,20), 'max_leaf_nodes':range(5,25)}\n",
    "Dtree = DecisionTreeClassifier()\n",
    "clf_tree = GridSearchCV(Dtree, param_grid,verbose=1,cv=5)\n",
    "clf_tree.fit(X_train, Y_train)\n",
    "print(clf_tree.score(X_train, Y_train))"
   ]
  },
  {
   "cell_type": "code",
   "execution_count": 41,
   "id": "85880e36",
   "metadata": {},
   "outputs": [
    {
     "data": {
      "text/plain": [
       "{'max_depth': 7, 'max_leaf_nodes': 18}"
      ]
     },
     "execution_count": 41,
     "metadata": {},
     "output_type": "execute_result"
    }
   ],
   "source": [
    "clf_tree.best_params_"
   ]
  },
  {
   "cell_type": "raw",
   "id": "7af034ff",
   "metadata": {},
   "source": [
    "the best Decision Tree model is with max depth 7 and max leaf nodes 18 "
   ]
  },
  {
   "cell_type": "code",
   "execution_count": 27,
   "id": "24efafea",
   "metadata": {},
   "outputs": [
    {
     "data": {
      "text/plain": [
       "0.7392739273927392"
      ]
     },
     "execution_count": 27,
     "metadata": {},
     "output_type": "execute_result"
    }
   ],
   "source": [
    "predict_tree=clf_tree.predict(X_test)\n",
    "clf_tree.score(X_test, Y_test)"
   ]
  },
  {
   "cell_type": "raw",
   "id": "396a3f4c",
   "metadata": {},
   "source": [
    "Accuracy score on test set is less that training set and it shows overfitting."
   ]
  },
  {
   "cell_type": "code",
   "execution_count": 20,
   "id": "cac5a20d",
   "metadata": {},
   "outputs": [
    {
     "name": "stdout",
     "output_type": "stream",
     "text": [
      "[[121  50]\n",
      " [ 29 103]]\n",
      "\n",
      "\n",
      "              precision    recall  f1-score   support\n",
      "\n",
      "           0       0.81      0.71      0.75       171\n",
      "           1       0.67      0.78      0.72       132\n",
      "\n",
      "    accuracy                           0.74       303\n",
      "   macro avg       0.74      0.74      0.74       303\n",
      "weighted avg       0.75      0.74      0.74       303\n",
      "\n"
     ]
    }
   ],
   "source": [
    "print(confusion_matrix(Y_test, predict_tree))\n",
    "print(\"\\n\")\n",
    "print(classification_report(Y_test, predict_tree))"
   ]
  },
  {
   "cell_type": "raw",
   "id": "c67f2eab",
   "metadata": {},
   "source": [
    "Sensitivity in Decision tree model is 0.67 and specificity is 0.81\n",
    "and it shows that model is not able for recognize class 1"
   ]
  },
  {
   "cell_type": "code",
   "execution_count": 49,
   "id": "6d261995",
   "metadata": {},
   "outputs": [
    {
     "data": {
      "text/plain": [
       "[Text(473.3035714285714, 1019.25, 'X[1] <= 0.485\\nentropy = 0.993\\nsamples = 1210\\nvalue = [666, 544]'),\n",
       " Text(159.42857142857142, 883.35, 'X[51] <= 0.338\\nentropy = 0.532\\nsamples = 256\\nvalue = [225, 31]'),\n",
       " Text(79.71428571428571, 747.45, 'entropy = 0.213\\nsamples = 148\\nvalue = [143, 5]'),\n",
       " Text(239.1428571428571, 747.45, 'X[51] <= 0.558\\nentropy = 0.796\\nsamples = 108\\nvalue = [82, 26]'),\n",
       " Text(159.42857142857142, 611.55, 'entropy = 0.9\\nsamples = 19\\nvalue = [6, 13]'),\n",
       " Text(318.85714285714283, 611.55, 'X[3] <= 0.9\\nentropy = 0.6\\nsamples = 89\\nvalue = [76, 13]'),\n",
       " Text(239.1428571428571, 475.65, 'X[35] <= 0.44\\nentropy = 0.357\\nsamples = 74\\nvalue = [69, 5]'),\n",
       " Text(159.42857142857142, 339.75, 'entropy = 0.773\\nsamples = 22\\nvalue = [17, 5]'),\n",
       " Text(318.85714285714283, 339.75, 'entropy = 0.0\\nsamples = 52\\nvalue = [52, 0]'),\n",
       " Text(398.57142857142856, 475.65, 'entropy = 0.997\\nsamples = 15\\nvalue = [7, 8]'),\n",
       " Text(787.1785714285713, 883.35, 'X[93] <= 0.582\\nentropy = 0.996\\nsamples = 954\\nvalue = [441, 513]'),\n",
       " Text(558.0, 747.45, 'X[52] <= 0.856\\nentropy = 0.678\\nsamples = 123\\nvalue = [101, 22]'),\n",
       " Text(478.2857142857142, 611.55, 'entropy = 0.454\\nsamples = 105\\nvalue = [95, 10]'),\n",
       " Text(637.7142857142857, 611.55, 'entropy = 0.918\\nsamples = 18\\nvalue = [6, 12]'),\n",
       " Text(1016.3571428571428, 747.45, 'X[18] <= 0.32\\nentropy = 0.976\\nsamples = 831\\nvalue = [340, 491]'),\n",
       " Text(797.1428571428571, 611.55, 'X[65] <= 0.515\\nentropy = 0.69\\nsamples = 92\\nvalue = [75, 17]'),\n",
       " Text(717.4285714285713, 475.65, 'X[46] <= 0.518\\nentropy = 0.428\\nsamples = 80\\nvalue = [73, 7]'),\n",
       " Text(637.7142857142857, 339.75, 'entropy = 0.971\\nsamples = 15\\nvalue = [9, 6]'),\n",
       " Text(797.1428571428571, 339.75, 'entropy = 0.115\\nsamples = 65\\nvalue = [64, 1]'),\n",
       " Text(876.8571428571428, 475.65, 'entropy = 0.65\\nsamples = 12\\nvalue = [2, 10]'),\n",
       " Text(1235.5714285714284, 611.55, 'X[20] <= 0.243\\nentropy = 0.942\\nsamples = 739\\nvalue = [265, 474]'),\n",
       " Text(1036.2857142857142, 475.65, 'X[18] <= 0.834\\nentropy = 0.889\\nsamples = 111\\nvalue = [77, 34]'),\n",
       " Text(956.5714285714284, 339.75, 'X[12] <= 0.921\\nentropy = 0.698\\nsamples = 85\\nvalue = [69, 16]'),\n",
       " Text(876.8571428571428, 203.85000000000002, 'entropy = 0.332\\nsamples = 49\\nvalue = [46, 3]'),\n",
       " Text(1036.2857142857142, 203.85000000000002, 'entropy = 0.944\\nsamples = 36\\nvalue = [23, 13]'),\n",
       " Text(1116.0, 339.75, 'entropy = 0.89\\nsamples = 26\\nvalue = [8, 18]'),\n",
       " Text(1434.8571428571427, 475.65, 'X[114] <= 0.582\\nentropy = 0.881\\nsamples = 628\\nvalue = [188, 440]'),\n",
       " Text(1355.142857142857, 339.75, 'X[47] <= 0.926\\nentropy = 0.853\\nsamples = 608\\nvalue = [169, 439]'),\n",
       " Text(1195.7142857142856, 203.85000000000002, 'X[14] <= 0.352\\nentropy = 0.912\\nsamples = 465\\nvalue = [152, 313]'),\n",
       " Text(1116.0, 67.95000000000005, 'entropy = 0.996\\nsamples = 110\\nvalue = [59, 51]'),\n",
       " Text(1275.4285714285713, 67.95000000000005, 'entropy = 0.83\\nsamples = 355\\nvalue = [93, 262]'),\n",
       " Text(1514.5714285714284, 203.85000000000002, 'X[9] <= 0.706\\nentropy = 0.526\\nsamples = 143\\nvalue = [17, 126]'),\n",
       " Text(1434.8571428571427, 67.95000000000005, 'entropy = 0.971\\nsamples = 10\\nvalue = [6, 4]'),\n",
       " Text(1594.2857142857142, 67.95000000000005, 'entropy = 0.412\\nsamples = 133\\nvalue = [11, 122]'),\n",
       " Text(1514.5714285714284, 339.75, 'entropy = 0.286\\nsamples = 20\\nvalue = [19, 1]')]"
      ]
     },
     "execution_count": 49,
     "metadata": {},
     "output_type": "execute_result"
    },
    {
     "data": {
      "image/png": "[encoded data removed]",
      "text/plain": [
       "<Figure size 2160x1440 with 1 Axes>"
      ]
     },
     "metadata": {
      "needs_background": "light"
     },
     "output_type": "display_data"
    }
   ],
   "source": [
    "\n",
    "plt.figure(figsize=(30,20))\n",
    "tree.plot_tree(Dtree)"
   ]
  },
  {
   "cell_type": "markdown",
   "id": "53bc965a",
   "metadata": {},
   "source": [
    "ROC Curve"
   ]
  },
  {
   "cell_type": "code",
   "execution_count": 50,
   "id": "a77b4698",
   "metadata": {},
   "outputs": [
    {
     "data": {
      "image/png": "[encoded data removed]",
      "text/plain": [
       "<Figure size 432x288 with 1 Axes>"
      ]
     },
     "metadata": {
      "needs_background": "light"
     },
     "output_type": "display_data"
    }
   ],
   "source": [
    "# calculate the fpr and tpr for all thresholds of the classification\n",
    "\n",
    "fpr, tpr, threshold = metrics.roc_curve(Y_test,predict_tree)\n",
    "roc_auc = metrics.auc(fpr, tpr)\n",
    "\n",
    "# method I: plt\n",
    "import matplotlib.pyplot as plt\n",
    "plt.title('Receiver Operating Characteristic')\n",
    "plt.plot(fpr, tpr, 'b', label = 'AUC = %0.2f' % roc_auc)\n",
    "plt.legend(loc = 'lower right')\n",
    "plt.plot([0, 1], [0, 1],'r--')\n",
    "plt.xlim([0, 1])\n",
    "plt.ylim([0, 1])\n",
    "plt.ylabel('True Positive Rate(sensitivity)')\n",
    "plt.xlabel('False Positive Rate')\n",
    "plt.show()"
   ]
  },
  {
   "cell_type": "markdown",
   "id": "8ec50615",
   "metadata": {},
   "source": [
    "############################## KNN ####################################################"
   ]
  },
  {
   "cell_type": "code",
   "execution_count": 28,
   "id": "440643dd",
   "metadata": {},
   "outputs": [],
   "source": [
    "from sklearn.preprocessing import StandardScaler\n",
    "from sklearn.model_selection import train_test_split\n",
    "import random\n",
    "from sklearn.neighbors import KNeighborsClassifier\n",
    "from sklearn.model_selection import GridSearchCV\n",
    "np.random.seed(10)\n",
    "\n"
   ]
  },
  {
   "cell_type": "code",
   "execution_count": 68,
   "id": "b173bf1a",
   "metadata": {},
   "outputs": [
    {
     "name": "stdout",
     "output_type": "stream",
     "text": [
      "{'n_neighbors': 10}\n",
      "0.8330578512396695\n",
      "0.801980198019802\n"
     ]
    }
   ],
   "source": [
    "knn = KNeighborsClassifier()\n",
    "k_range = list(range(1, 15))\n",
    "param_grid = dict(n_neighbors=k_range)\n",
    "grid_knn = GridSearchCV(knn, param_grid, cv=5)\n",
    "grid_knn.fit(X_train_scaled, Y_train)\n",
    "print(grid_knn.best_params_)\n",
    "print(grid_knn.score(X_train_scaled, Y_train))\n",
    "print(grid_knn.score(X_test_scaled, Y_test))\n"
   ]
  },
  {
   "cell_type": "raw",
   "id": "d0ab46fe",
   "metadata": {},
   "source": [
    "accuracy in training set and test set are near together"
   ]
  },
  {
   "cell_type": "markdown",
   "id": "e2fca47c",
   "metadata": {},
   "source": [
    "an other method select best k"
   ]
  },
  {
   "cell_type": "code",
   "execution_count": 62,
   "id": "934ff73c",
   "metadata": {},
   "outputs": [
    {
     "data": {
      "text/plain": [
       "[0.7854785478547854,\n",
       " 0.7722772277227723,\n",
       " 0.7854785478547854,\n",
       " 0.7755775577557755,\n",
       " 0.7755775577557755,\n",
       " 0.7854785478547854,\n",
       " 0.801980198019802,\n",
       " 0.7854785478547854,\n",
       " 0.7986798679867987,\n",
       " 0.801980198019802]"
      ]
     },
     "execution_count": 62,
     "metadata": {},
     "output_type": "execute_result"
    }
   ],
   "source": [
    "scores = {}\n",
    "scores_list = []\n",
    "range_K = range(1,11)\n",
    "for K in range_K:\n",
    "    KNN = KNeighborsClassifier(n_neighbors = K)\n",
    "    KNN.fit(X_train_scaled , Y_train)\n",
    "    predict_test_knn = KNN.predict(X_test_scaled)\n",
    "    scores[K] = metrics.accuracy_score(Y_test, predict_test_knn)\n",
    "    scores_list.append(scores[K])\n",
    "scores_list        "
   ]
  },
  {
   "cell_type": "markdown",
   "id": "42f53c99",
   "metadata": {},
   "source": [
    "Accuracy vs k plot"
   ]
  },
  {
   "cell_type": "code",
   "execution_count": 63,
   "id": "0b7a0fd2",
   "metadata": {},
   "outputs": [
    {
     "data": {
      "text/plain": [
       "Text(0, 0.5, 'ACC')"
      ]
     },
     "execution_count": 63,
     "metadata": {},
     "output_type": "execute_result"
    },
    {
     "data": {
      "image/png": "[encoded data removed]",
      "text/plain": [
       "<Figure size 432x288 with 1 Axes>"
      ]
     },
     "metadata": {},
     "output_type": "display_data"
    }
   ],
   "source": [
    "plt.style.use('ggplot')\n",
    "plt.plot(range_K,scores_list)\n",
    "plt.xlabel(\"K\")\n",
    "plt.ylabel(\"ACC\")"
   ]
  },
  {
   "cell_type": "code",
   "execution_count": 69,
   "id": "5008c69f",
   "metadata": {},
   "outputs": [],
   "source": [
    "predict_knn=grid_knn.predict(X_test_scaled)"
   ]
  },
  {
   "cell_type": "code",
   "execution_count": 70,
   "id": "a62c1ec9",
   "metadata": {},
   "outputs": [
    {
     "name": "stdout",
     "output_type": "stream",
     "text": [
      "[[145  26]\n",
      " [ 34  98]]\n",
      "\n",
      "\n",
      "              precision    recall  f1-score   support\n",
      "\n",
      "           0       0.81      0.85      0.83       171\n",
      "           1       0.79      0.74      0.77       132\n",
      "\n",
      "    accuracy                           0.80       303\n",
      "   macro avg       0.80      0.80      0.80       303\n",
      "weighted avg       0.80      0.80      0.80       303\n",
      "\n"
     ]
    }
   ],
   "source": [
    "print(confusion_matrix(Y_test, predict_knn))\n",
    "print(\"\\n\")\n",
    "print(classification_report(Y_test, predict_knn))"
   ]
  },
  {
   "cell_type": "raw",
   "id": "343db537",
   "metadata": {},
   "source": [
    "Sensitivity in svm model is 0.79 and specificity is 0.81  "
   ]
  },
  {
   "cell_type": "markdown",
   "id": "9ee299af",
   "metadata": {},
   "source": [
    "ROC"
   ]
  },
  {
   "cell_type": "code",
   "execution_count": 71,
   "id": "08a8aafb",
   "metadata": {},
   "outputs": [
    {
     "data": {
      "image/png": "[encoded data removed]",
      "text/plain": [
       "<Figure size 432x288 with 1 Axes>"
      ]
     },
     "metadata": {},
     "output_type": "display_data"
    }
   ],
   "source": [
    "# calculate the fpr and tpr for all thresholds of the classification\n",
    "\n",
    "fpr, tpr, threshold = metrics.roc_curve(Y_test,predict_knn)\n",
    "roc_auc = metrics.auc(fpr, tpr)\n",
    "\n",
    "# method I: plt\n",
    "import matplotlib.pyplot as plt\n",
    "plt.title('Receiver Operating Characteristic')\n",
    "plt.plot(fpr, tpr, 'b', label = 'AUC = %0.2f' % roc_auc)\n",
    "plt.legend(loc = 'lower right')\n",
    "plt.plot([0, 1], [0, 1],'r--')\n",
    "plt.xlim([0, 1])\n",
    "plt.ylim([0, 1])\n",
    "plt.ylabel('True Positive Rate(sensitivity)')\n",
    "plt.xlabel('False Positive Rate')\n",
    "plt.show()"
   ]
  },
  {
   "cell_type": "markdown",
   "id": "ce6411be",
   "metadata": {},
   "source": [
    "########################### Perceptron #############################"
   ]
  },
  {
   "cell_type": "raw",
   "id": "7d92c3a8",
   "metadata": {},
   "source": [
    "perceptron is neural net with 1 layer"
   ]
  },
  {
   "cell_type": "code",
   "execution_count": 125,
   "id": "22bbd755",
   "metadata": {},
   "outputs": [],
   "source": [
    "from sklearn.neural_network import MLPClassifier\n",
    "from sklearn.pipeline import Pipeline\n",
    "from sklearn.preprocessing import StandardScaler\n",
    "from sklearn.model_selection import GridSearchCV"
   ]
  },
  {
   "cell_type": "code",
   "execution_count": 58,
   "id": "2fa16372",
   "metadata": {},
   "outputs": [],
   "source": [
    "mlp = MLPClassifier(hidden_layer_sizes=(1), activation = \"relu\" )\n",
    "mlp.fit(X_train_scaled, Y_train)\n",
    "predict_train_mlp = mlp.predict(X_train_scaled)"
   ]
  },
  {
   "cell_type": "code",
   "execution_count": 59,
   "id": "001b4206",
   "metadata": {},
   "outputs": [
    {
     "data": {
      "text/plain": [
       "0.7884297520661157"
      ]
     },
     "execution_count": 59,
     "metadata": {},
     "output_type": "execute_result"
    }
   ],
   "source": [
    "accuracy_score(Y_train, predict_train_mlp)"
   ]
  },
  {
   "cell_type": "code",
   "execution_count": 60,
   "id": "048f2a8c",
   "metadata": {},
   "outputs": [
    {
     "data": {
      "text/plain": [
       "0.7425742574257426"
      ]
     },
     "execution_count": 60,
     "metadata": {},
     "output_type": "execute_result"
    }
   ],
   "source": [
    "predict_test_mlp = mlp.predict(X_test_scaled)\n",
    "accuracy_score(Y_test, predict_test_mlp)"
   ]
  },
  {
   "cell_type": "code",
   "execution_count": 64,
   "id": "2ac1ae06",
   "metadata": {},
   "outputs": [
    {
     "name": "stdout",
     "output_type": "stream",
     "text": [
      "[[102  54]\n",
      " [ 24 123]]\n",
      "\n",
      "\n",
      "              precision    recall  f1-score   support\n",
      "\n",
      "           0       0.81      0.65      0.72       156\n",
      "           1       0.69      0.84      0.76       147\n",
      "\n",
      "    accuracy                           0.74       303\n",
      "   macro avg       0.75      0.75      0.74       303\n",
      "weighted avg       0.75      0.74      0.74       303\n",
      "\n"
     ]
    }
   ],
   "source": [
    "print(confusion_matrix(Y_test, predict_test_mlp))\n",
    "print(\"\\n\")\n",
    "print(classification_report(Y_test, predict_test_mlp))"
   ]
  },
  {
   "cell_type": "raw",
   "id": "7d259769",
   "metadata": {},
   "source": [
    "Sensitivity in svm model is 0.69 and specificity is 0.81  "
   ]
  },
  {
   "cell_type": "raw",
   "id": "bed40167",
   "metadata": {},
   "source": [
    "perceptrons sensitivity is 0.69 and it is very low"
   ]
  },
  {
   "cell_type": "code",
   "execution_count": 65,
   "id": "b02bb62b",
   "metadata": {},
   "outputs": [
    {
     "data": {
      "image/png": "[encoded data removed]",
      "text/plain": [
       "<Figure size 432x288 with 1 Axes>"
      ]
     },
     "metadata": {
      "needs_background": "light"
     },
     "output_type": "display_data"
    }
   ],
   "source": [
    "# calculate the fpr and tpr for all thresholds of the classification\n",
    "\n",
    "fpr, tpr, threshold = metrics.roc_curve(Y_test,predict_test_mlp)\n",
    "roc_auc = metrics.auc(fpr, tpr)\n",
    "\n",
    "# method I: plt\n",
    "import matplotlib.pyplot as plt\n",
    "plt.title('Receiver Operating Characteristic')\n",
    "plt.plot(fpr, tpr, 'b', label = 'AUC = %0.2f' % roc_auc)\n",
    "plt.legend(loc = 'lower right')\n",
    "plt.plot([0, 1], [0, 1],'r--')\n",
    "plt.xlim([0, 1])\n",
    "plt.ylim([0, 1])\n",
    "plt.ylabel('True Positive Rate(sensitivity)')\n",
    "plt.xlabel('False Positive Rate')\n",
    "plt.show()"
   ]
  },
  {
   "cell_type": "markdown",
   "id": "72117cd9",
   "metadata": {},
   "source": [
    "########################## Neural Net #####################################"
   ]
  },
  {
   "cell_type": "code",
   "execution_count": 70,
   "id": "11249c0c",
   "metadata": {},
   "outputs": [],
   "source": [
    "nn = MLPClassifier(hidden_layer_sizes=(10), activation = \"relu\" )\n",
    "nn.fit(X_train_scaled, Y_train)\n",
    "predict_train_nn = nn.predict(X_train_scaled)"
   ]
  },
  {
   "cell_type": "code",
   "execution_count": 67,
   "id": "f9c0d5a6",
   "metadata": {},
   "outputs": [
    {
     "data": {
      "text/plain": [
       "0.9016528925619834"
      ]
     },
     "execution_count": 67,
     "metadata": {},
     "output_type": "execute_result"
    }
   ],
   "source": [
    "accuracy_score(Y_train, predict_train_nn)"
   ]
  },
  {
   "cell_type": "code",
   "execution_count": 71,
   "id": "a419f93f",
   "metadata": {},
   "outputs": [
    {
     "data": {
      "text/plain": [
       "0.7953795379537953"
      ]
     },
     "execution_count": 71,
     "metadata": {},
     "output_type": "execute_result"
    }
   ],
   "source": [
    "predict_test_nn = nn.predict(X_test_scaled)\n",
    "accuracy_score(Y_test, predict_test_nn)"
   ]
  },
  {
   "cell_type": "raw",
   "id": "b7ba0b72",
   "metadata": {},
   "source": [
    "overfitting in neural net is obvious, because accuracy in training set is 0.90 and in test set is 0.79"
   ]
  },
  {
   "cell_type": "code",
   "execution_count": 73,
   "id": "2316cd7c",
   "metadata": {},
   "outputs": [
    {
     "name": "stdout",
     "output_type": "stream",
     "text": [
      "[[123  33]\n",
      " [ 29 118]]\n",
      "\n",
      "\n",
      "              precision    recall  f1-score   support\n",
      "\n",
      "           0       0.81      0.79      0.80       156\n",
      "           1       0.78      0.80      0.79       147\n",
      "\n",
      "    accuracy                           0.80       303\n",
      "   macro avg       0.80      0.80      0.80       303\n",
      "weighted avg       0.80      0.80      0.80       303\n",
      "\n"
     ]
    }
   ],
   "source": [
    "print(confusion_matrix(Y_test, predict_test_nn))\n",
    "print(\"\\n\")\n",
    "print(classification_report(Y_test, predict_test_nn))"
   ]
  },
  {
   "cell_type": "raw",
   "id": "4336c310",
   "metadata": {},
   "source": [
    "Sensitivity in svm model is 0.78 and specificity is 0.81  "
   ]
  },
  {
   "cell_type": "code",
   "execution_count": 72,
   "id": "5e89e8d8",
   "metadata": {},
   "outputs": [
    {
     "data": {
      "image/png": "[encoded data removed]",
      "text/plain": [
       "<Figure size 432x288 with 1 Axes>"
      ]
     },
     "metadata": {
      "needs_background": "light"
     },
     "output_type": "display_data"
    }
   ],
   "source": [
    "# calculate the fpr and tpr for all thresholds of the classification\n",
    "\n",
    "fpr, tpr, threshold = metrics.roc_curve(Y_test,predict_test_nn)\n",
    "roc_auc = metrics.auc(fpr, tpr)\n",
    "\n",
    "# method I: plt\n",
    "import matplotlib.pyplot as plt\n",
    "plt.title('Receiver Operating Characteristic')\n",
    "plt.plot(fpr, tpr, 'b', label = 'AUC = %0.2f' % roc_auc)\n",
    "plt.legend(loc = 'lower right')\n",
    "plt.plot([0, 1], [0, 1],'r--')\n",
    "plt.xlim([0, 1])\n",
    "plt.ylim([0, 1])\n",
    "plt.ylabel('True Positive Rate(sensitivity)')\n",
    "plt.xlabel('False Positive Rate')\n",
    "plt.show()"
   ]
  },
  {
   "cell_type": "markdown",
   "id": "89313d9b",
   "metadata": {},
   "source": [
    "##################Adaboost ###############################"
   ]
  },
  {
   "cell_type": "raw",
   "id": "b829f6df",
   "metadata": {},
   "source": [
    "AdaBoost is an ensemble learning method (also known as “meta-learning”) which was initially created to increase the efficiency of binary classifiers. AdaBoost uses an iterative approach to learn from the mistakes of weak classifiers, and turn them into strong ones."
   ]
  },
  {
   "cell_type": "code",
   "execution_count": 75,
   "id": "a08dc366",
   "metadata": {},
   "outputs": [],
   "source": [
    "from sklearn.ensemble import AdaBoostClassifier"
   ]
  },
  {
   "cell_type": "code",
   "execution_count": 76,
   "id": "bc2377c6",
   "metadata": {},
   "outputs": [
    {
     "data": {
      "text/plain": [
       "AdaBoostClassifier(learning_rate=1, n_estimators=100)"
      ]
     },
     "execution_count": 76,
     "metadata": {},
     "output_type": "execute_result"
    }
   ],
   "source": [
    "ada = AdaBoostClassifier(n_estimators = 100, base_estimator = None, learning_rate = 1)\n",
    "ada.fit(X_train, Y_train)"
   ]
  },
  {
   "cell_type": "code",
   "execution_count": 84,
   "id": "f1436fa4",
   "metadata": {},
   "outputs": [
    {
     "name": "stdout",
     "output_type": "stream",
     "text": [
      "Average Cross Validation score :0.7356588638996351\n",
      "Cross Validation Scores are 0.06768860945426008\n"
     ]
    }
   ],
   "source": [
    "results = cross_val_score(ada, X, Y, cv=5)\n",
    "print(\"Average Cross Validation score :{}\".format(results.mean()))\n",
    "print(\"Cross Validation Scores are {}\".format(results.std()))"
   ]
  },
  {
   "cell_type": "code",
   "execution_count": 85,
   "id": "462fa45f",
   "metadata": {},
   "outputs": [
    {
     "data": {
      "text/plain": [
       "0.7161716171617162"
      ]
     },
     "execution_count": 85,
     "metadata": {},
     "output_type": "execute_result"
    }
   ],
   "source": [
    "#test\n",
    "predict_test_ada = ada.predict(X_test)\n",
    "accuracy_score(Y_test, predict_test_ada)"
   ]
  },
  {
   "cell_type": "code",
   "execution_count": 86,
   "id": "f7dd2e1a",
   "metadata": {},
   "outputs": [
    {
     "name": "stdout",
     "output_type": "stream",
     "text": [
      "[[117  39]\n",
      " [ 47 100]]\n",
      "\n",
      "\n",
      "              precision    recall  f1-score   support\n",
      "\n",
      "           0       0.71      0.75      0.73       156\n",
      "           1       0.72      0.68      0.70       147\n",
      "\n",
      "    accuracy                           0.72       303\n",
      "   macro avg       0.72      0.72      0.72       303\n",
      "weighted avg       0.72      0.72      0.72       303\n",
      "\n"
     ]
    }
   ],
   "source": [
    "print(confusion_matrix(Y_test, predict_test_ada))\n",
    "print(\"\\n\")\n",
    "print(classification_report(Y_test, predict_test_ada))"
   ]
  },
  {
   "cell_type": "raw",
   "id": "e480d301",
   "metadata": {},
   "source": [
    "Sensitivity in svm model is 0.72 and specificity is 0.71  "
   ]
  },
  {
   "cell_type": "markdown",
   "id": "d49c4648",
   "metadata": {},
   "source": [
    "################## XG boost ##########################"
   ]
  },
  {
   "cell_type": "markdown",
   "id": "501e1d47",
   "metadata": {},
   "source": [
    "XGBoost is an implementation of gradient boosted decision trees designed for speed and performance."
   ]
  },
  {
   "cell_type": "code",
   "execution_count": 73,
   "id": "7f982922",
   "metadata": {},
   "outputs": [],
   "source": [
    "from xgboost import XGBClassifier"
   ]
  },
  {
   "cell_type": "code",
   "execution_count": 74,
   "id": "a662805e",
   "metadata": {},
   "outputs": [
    {
     "name": "stdout",
     "output_type": "stream",
     "text": [
      "[13:28:24] WARNING: C:/Users/Administrator/workspace/xgboost-win64_release_1.5.1/src/learner.cc:1115: Starting in XGBoost 1.3.0, the default evaluation metric used with the objective 'binary:logistic' was changed from 'error' to 'logloss'. Explicitly set eval_metric if you'd like to restore the old behavior.\n",
      "[0]\tvalidation_0-logloss:0.66847\n",
      "[1]\tvalidation_0-logloss:0.64757\n",
      "[2]\tvalidation_0-logloss:0.63107\n",
      "[3]\tvalidation_0-logloss:0.62037\n",
      "[4]\tvalidation_0-logloss:0.60881\n",
      "[5]\tvalidation_0-logloss:0.60246\n",
      "[6]\tvalidation_0-logloss:0.59550\n",
      "[7]\tvalidation_0-logloss:0.59218\n",
      "[8]\tvalidation_0-logloss:0.58308\n",
      "[9]\tvalidation_0-logloss:0.57480\n",
      "[10]\tvalidation_0-logloss:0.56806\n",
      "[11]\tvalidation_0-logloss:0.56346\n",
      "[12]\tvalidation_0-logloss:0.55890\n",
      "[13]\tvalidation_0-logloss:0.55236\n",
      "[14]\tvalidation_0-logloss:0.54736\n",
      "[15]\tvalidation_0-logloss:0.54367\n",
      "[16]\tvalidation_0-logloss:0.53965\n",
      "[17]\tvalidation_0-logloss:0.53226\n",
      "[18]\tvalidation_0-logloss:0.52931\n",
      "[19]\tvalidation_0-logloss:0.52760\n",
      "[20]\tvalidation_0-logloss:0.52674\n",
      "[21]\tvalidation_0-logloss:0.52560\n",
      "[22]\tvalidation_0-logloss:0.52015\n",
      "[23]\tvalidation_0-logloss:0.51881\n",
      "[24]\tvalidation_0-logloss:0.51755\n",
      "[25]\tvalidation_0-logloss:0.51649\n",
      "[26]\tvalidation_0-logloss:0.51423\n",
      "[27]\tvalidation_0-logloss:0.51350\n",
      "[28]\tvalidation_0-logloss:0.51302\n",
      "[29]\tvalidation_0-logloss:0.51101\n",
      "[30]\tvalidation_0-logloss:0.50933\n",
      "[31]\tvalidation_0-logloss:0.50817\n",
      "[32]\tvalidation_0-logloss:0.50550\n",
      "[33]\tvalidation_0-logloss:0.50445\n",
      "[34]\tvalidation_0-logloss:0.50175\n",
      "[35]\tvalidation_0-logloss:0.50231\n",
      "[36]\tvalidation_0-logloss:0.49964\n",
      "[37]\tvalidation_0-logloss:0.49925\n",
      "[38]\tvalidation_0-logloss:0.49872\n",
      "[39]\tvalidation_0-logloss:0.49785\n",
      "[40]\tvalidation_0-logloss:0.49687\n",
      "[41]\tvalidation_0-logloss:0.49580\n",
      "[42]\tvalidation_0-logloss:0.49612\n",
      "[43]\tvalidation_0-logloss:0.49464\n",
      "[44]\tvalidation_0-logloss:0.49447\n",
      "[45]\tvalidation_0-logloss:0.49420\n",
      "[46]\tvalidation_0-logloss:0.49484\n",
      "[47]\tvalidation_0-logloss:0.49471\n",
      "[48]\tvalidation_0-logloss:0.49555\n",
      "[49]\tvalidation_0-logloss:0.49493\n",
      "[50]\tvalidation_0-logloss:0.49619\n",
      "[51]\tvalidation_0-logloss:0.49626\n",
      "[52]\tvalidation_0-logloss:0.49370\n",
      "[53]\tvalidation_0-logloss:0.49369\n",
      "[54]\tvalidation_0-logloss:0.49313\n",
      "[55]\tvalidation_0-logloss:0.49369\n",
      "[56]\tvalidation_0-logloss:0.49402\n",
      "[57]\tvalidation_0-logloss:0.49365\n",
      "[58]\tvalidation_0-logloss:0.49173\n",
      "[59]\tvalidation_0-logloss:0.49249\n",
      "[60]\tvalidation_0-logloss:0.49175\n",
      "[61]\tvalidation_0-logloss:0.48941\n",
      "[62]\tvalidation_0-logloss:0.48963\n",
      "[63]\tvalidation_0-logloss:0.48969\n",
      "[64]\tvalidation_0-logloss:0.48981\n",
      "[65]\tvalidation_0-logloss:0.48829\n",
      "[66]\tvalidation_0-logloss:0.48953\n",
      "[67]\tvalidation_0-logloss:0.48874\n",
      "[68]\tvalidation_0-logloss:0.48902\n",
      "[69]\tvalidation_0-logloss:0.48959\n",
      "[70]\tvalidation_0-logloss:0.48920\n",
      "[71]\tvalidation_0-logloss:0.48906\n",
      "[72]\tvalidation_0-logloss:0.48762\n",
      "[73]\tvalidation_0-logloss:0.48709\n",
      "[74]\tvalidation_0-logloss:0.48641\n",
      "[75]\tvalidation_0-logloss:0.48665\n",
      "[76]\tvalidation_0-logloss:0.48705\n",
      "[77]\tvalidation_0-logloss:0.48633\n",
      "[78]\tvalidation_0-logloss:0.48522\n",
      "[79]\tvalidation_0-logloss:0.48546\n",
      "[80]\tvalidation_0-logloss:0.48369\n",
      "[81]\tvalidation_0-logloss:0.48323\n",
      "[82]\tvalidation_0-logloss:0.48192\n",
      "[83]\tvalidation_0-logloss:0.48359\n",
      "[84]\tvalidation_0-logloss:0.48323\n",
      "[85]\tvalidation_0-logloss:0.48292\n",
      "[86]\tvalidation_0-logloss:0.48216\n",
      "[87]\tvalidation_0-logloss:0.48141\n",
      "[88]\tvalidation_0-logloss:0.48077\n",
      "[89]\tvalidation_0-logloss:0.48074\n",
      "[90]\tvalidation_0-logloss:0.48239\n",
      "[91]\tvalidation_0-logloss:0.48304\n",
      "[92]\tvalidation_0-logloss:0.48113\n",
      "[93]\tvalidation_0-logloss:0.47939\n",
      "[94]\tvalidation_0-logloss:0.47918\n",
      "[95]\tvalidation_0-logloss:0.47915\n",
      "[96]\tvalidation_0-logloss:0.47885\n",
      "[97]\tvalidation_0-logloss:0.47853\n",
      "[98]\tvalidation_0-logloss:0.47858\n",
      "[99]\tvalidation_0-logloss:0.47917\n"
     ]
    },
    {
     "data": {
      "text/plain": [
       "XGBClassifier(base_score=0.5, booster='gbtree', colsample_bylevel=1,\n",
       "              colsample_bynode=1, colsample_bytree=1, enable_categorical=False,\n",
       "              gamma=0, gpu_id=-1, importance_type=None,\n",
       "              interaction_constraints='', learning_rate=0.300000012,\n",
       "              max_delta_step=0, max_depth=1, min_child_weight=1, missing=nan,\n",
       "              monotone_constraints='()', n_estimators=100, n_jobs=8,\n",
       "              num_parallel_tree=1, predictor='auto', random_state=0,\n",
       "              reg_alpha=0, reg_lambda=1, scale_pos_weight=1, subsample=0.9,\n",
       "              tree_method='exact', validate_parameters=1, verbosity=None)"
      ]
     },
     "execution_count": 74,
     "metadata": {},
     "output_type": "execute_result"
    }
   ],
   "source": [
    "xgb = XGBClassifier(max_depth = 1, subsample = 0.9)\n",
    "eval_ = [(X_test, Y_test)]\n",
    "xgb.fit(X_train, Y_train, early_stopping_rounds = 10, eval_set = eval_)"
   ]
  },
  {
   "cell_type": "code",
   "execution_count": 76,
   "id": "d90bc322",
   "metadata": {},
   "outputs": [
    {
     "name": "stdout",
     "output_type": "stream",
     "text": [
      "Accuracy on train 0.8429752066115702\n",
      "Accuracy on train 0.7920792079207921\n"
     ]
    }
   ],
   "source": [
    "predict_train_xgb = xgb.predict(X_train)\n",
    "predict_test_xgb = xgb.predict(X_test)\n",
    "a=accuracy_score(Y_train, predict_train_xgb)\n",
    "b=accuracy_score(Y_test, predict_test_xgb)\n",
    "print(\"Accuracy on train {}\".format(a))\n",
    "print(\"Accuracy on train {}\".format(b))\n"
   ]
  },
  {
   "cell_type": "code",
   "execution_count": 91,
   "id": "12856a03",
   "metadata": {},
   "outputs": [
    {
     "name": "stdout",
     "output_type": "stream",
     "text": [
      "[[113  43]\n",
      " [ 31 116]]\n",
      "\n",
      "\n",
      "              precision    recall  f1-score   support\n",
      "\n",
      "           0       0.78      0.72      0.75       156\n",
      "           1       0.73      0.79      0.76       147\n",
      "\n",
      "    accuracy                           0.76       303\n",
      "   macro avg       0.76      0.76      0.76       303\n",
      "weighted avg       0.76      0.76      0.76       303\n",
      "\n"
     ]
    }
   ],
   "source": [
    "print(confusion_matrix(Y_test, predict_test_xgb))\n",
    "print(\"\\n\")\n",
    "print(classification_report(Y_test, predict_test_xgb))"
   ]
  },
  {
   "cell_type": "raw",
   "id": "503e684c",
   "metadata": {},
   "source": [
    "Sensitivity in svm model is 0.73 and specificity is 0.78  "
   ]
  },
  {
   "cell_type": "markdown",
   "id": "fc329638",
   "metadata": {},
   "source": [
    "######################## Bagging #####################################"
   ]
  },
  {
   "cell_type": "raw",
   "id": "779ac04a",
   "metadata": {},
   "source": [
    "Bagging, also known as bootstrap aggregation, is the ensemble learning method that is commonly used to reduce variance within a noisy dataset. In bagging, a random sample of data in a training set is selected with replacement—meaning that the individual data points can be chosen more than once."
   ]
  },
  {
   "cell_type": "code",
   "execution_count": 77,
   "id": "a641d7d5",
   "metadata": {},
   "outputs": [],
   "source": [
    "from sklearn.ensemble import BaggingClassifier\n",
    "from sklearn.tree import DecisionTreeClassifier"
   ]
  },
  {
   "cell_type": "code",
   "execution_count": 78,
   "id": "500835bb",
   "metadata": {},
   "outputs": [],
   "source": [
    "bg = BaggingClassifier(DecisionTreeClassifier(), n_estimators =100)\n",
    "bg.fit(X_train, Y_train)\n",
    "results_bg = cross_val_score(bg, X, Y, cv=5)"
   ]
  },
  {
   "cell_type": "code",
   "execution_count": 79,
   "id": "f6f46cd2",
   "metadata": {},
   "outputs": [
    {
     "name": "stdout",
     "output_type": "stream",
     "text": [
      "Average Cross Validation score :0.7562017791183091\n",
      "Cross Validation Scores are 0.08346168958622815\n",
      "Accuracy on train 0.7953795379537953\n"
     ]
    }
   ],
   "source": [
    "predict_bg = bg.predict(X_test)\n",
    "print(\"Average Cross Validation score :{}\".format(results_bg.mean()))\n",
    "print(\"Cross Validation Scores are {}\".format(results_bg.std()))\n",
    "b=accuracy_score(Y_test, predict_bg)\n",
    "print(\"Accuracy on train {}\".format(b))\n"
   ]
  },
  {
   "cell_type": "code",
   "execution_count": 80,
   "id": "e291e5c6",
   "metadata": {},
   "outputs": [
    {
     "name": "stdout",
     "output_type": "stream",
     "text": [
      "[[139  32]\n",
      " [ 30 102]]\n",
      "\n",
      "\n",
      "              precision    recall  f1-score   support\n",
      "\n",
      "           0       0.82      0.81      0.82       171\n",
      "           1       0.76      0.77      0.77       132\n",
      "\n",
      "    accuracy                           0.80       303\n",
      "   macro avg       0.79      0.79      0.79       303\n",
      "weighted avg       0.80      0.80      0.80       303\n",
      "\n"
     ]
    }
   ],
   "source": [
    "print(confusion_matrix(Y_test, predict_bg))\n",
    "print(\"\\n\")\n",
    "print(classification_report(Y_test, predict_bg))"
   ]
  },
  {
   "cell_type": "raw",
   "id": "707f672c",
   "metadata": {},
   "source": [
    "Sensitivity in svm model is 0.76 and specificity is 0.82  "
   ]
  },
  {
   "cell_type": "markdown",
   "id": "bfcc9e78",
   "metadata": {},
   "source": [
    "######################## Random Forest #################################\n",
    "\n"
   ]
  },
  {
   "cell_type": "code",
   "execution_count": 82,
   "id": "fa1241cf",
   "metadata": {},
   "outputs": [],
   "source": [
    "#train\n",
    "from sklearn.ensemble import RandomForestClassifier\n",
    "rf=RandomForestClassifier(n_estimators=100)\n",
    "rf.fit(X_train,Y_train)\n",
    "kf=KFold(n_splits=5)\n",
    "score_rf=cross_val_score(rf,X_train,Y_train,cv=kf)\n"
   ]
  },
  {
   "cell_type": "code",
   "execution_count": 83,
   "id": "39b215fe",
   "metadata": {},
   "outputs": [
    {
     "name": "stdout",
     "output_type": "stream",
     "text": [
      "Average Cross Validation score :0.8099173553719009\n",
      "Average Cross Validation score :0.012258179317513503\n"
     ]
    }
   ],
   "source": [
    "print(\"Average Cross Validation score :{}\".format(score_rf.mean()))\n",
    "print(\"Average Cross Validation score :{}\".format(score_rf.std()))"
   ]
  },
  {
   "cell_type": "code",
   "execution_count": 84,
   "id": "3d06d15e",
   "metadata": {},
   "outputs": [
    {
     "data": {
      "text/plain": [
       "0.8118811881188119"
      ]
     },
     "execution_count": 84,
     "metadata": {},
     "output_type": "execute_result"
    }
   ],
   "source": [
    "#test\n",
    "predict_test_rf = rf.predict(X_test)\n",
    "accuracy_score(Y_test, predict_test_rf)"
   ]
  },
  {
   "cell_type": "code",
   "execution_count": 85,
   "id": "04ac8f5b",
   "metadata": {},
   "outputs": [
    {
     "name": "stdout",
     "output_type": "stream",
     "text": [
      "[[143  28]\n",
      " [ 29 103]]\n",
      "\n",
      "\n",
      "              precision    recall  f1-score   support\n",
      "\n",
      "           0       0.83      0.84      0.83       171\n",
      "           1       0.79      0.78      0.78       132\n",
      "\n",
      "    accuracy                           0.81       303\n",
      "   macro avg       0.81      0.81      0.81       303\n",
      "weighted avg       0.81      0.81      0.81       303\n",
      "\n"
     ]
    }
   ],
   "source": [
    "print(confusion_matrix(Y_test, predict_test_rf))\n",
    "print(\"\\n\")\n",
    "print(classification_report(Y_test, predict_test_rf))"
   ]
  },
  {
   "cell_type": "raw",
   "id": "49cba021",
   "metadata": {},
   "source": [
    "Sensitivity in svm model is 0.79 and specificity is 0.83  "
   ]
  },
  {
   "cell_type": "markdown",
   "id": "604c7d24",
   "metadata": {},
   "source": [
    "########################### Voting Ensemble #################################"
   ]
  },
  {
   "cell_type": "code",
   "execution_count": 88,
   "id": "57742357",
   "metadata": {},
   "outputs": [
    {
     "name": "stdout",
     "output_type": "stream",
     "text": [
      "0.8173553719008264\n"
     ]
    }
   ],
   "source": [
    "# Voting Ensemble for Classification\n",
    "from sklearn.model_selection import KFold\n",
    "from sklearn.model_selection import cross_val_score\n",
    "from sklearn.linear_model import LogisticRegression\n",
    "from sklearn.tree import DecisionTreeClassifier\n",
    "from sklearn.svm import SVC\n",
    "from sklearn.ensemble import VotingClassifier\n",
    "\n",
    "estimators = []\n",
    "model1 = LogisticRegression()\n",
    "estimators.append(('logistic', model1))\n",
    "model2 = DecisionTreeClassifier()\n",
    "estimators.append(('cart', model2))\n",
    "model3 = SVC()\n",
    "estimators.append(('svm', model3))\n",
    "model4=MLPClassifier()\n",
    "estimators.append(('NN', model4))\n",
    "model5 = KNeighborsClassifier(n_neighbors=10)\n",
    "estimators.append(('KNN', model5))\n",
    "\n",
    "ensemble = VotingClassifier(estimators)\n",
    "voting = cross_val_score(ensemble, X_train, Y_train, cv=5)\n",
    "print(voting.mean())"
   ]
  },
  {
   "cell_type": "code",
   "execution_count": 90,
   "id": "909ba366",
   "metadata": {},
   "outputs": [
    {
     "name": "stdout",
     "output_type": "stream",
     "text": [
      "Cross Validation Scores are [0.82231405 0.79752066 0.82644628 0.82644628 0.81404959]\n",
      "Average Cross Validation score :0.8173553719008264\n",
      "SD of Cross Validation score :0.010901575172126391\n"
     ]
    }
   ],
   "source": [
    "print(\"Cross Validation Scores are {}\".format(voting))\n",
    "print(\"Average Cross Validation score :{}\".format(voting.mean()))\n",
    "print(\"SD of Cross Validation score :{}\".format(voting.std()))"
   ]
  },
  {
   "cell_type": "code",
   "execution_count": 92,
   "id": "cd6bfd42",
   "metadata": {},
   "outputs": [
    {
     "name": "stdout",
     "output_type": "stream",
     "text": [
      "Accuracy on train 0.8085808580858086\n"
     ]
    }
   ],
   "source": [
    "ensemble.fit(X_train,Y_train)\n",
    "predict_voting = ensemble.predict(X_test)\n",
    "b=accuracy_score(Y_test, predict_voting)\n",
    "print(\"Accuracy on train {}\".format(b))"
   ]
  },
  {
   "cell_type": "code",
   "execution_count": 93,
   "id": "6dabc88d",
   "metadata": {},
   "outputs": [
    {
     "name": "stdout",
     "output_type": "stream",
     "text": [
      "[[143  28]\n",
      " [ 30 102]]\n",
      "\n",
      "\n",
      "              precision    recall  f1-score   support\n",
      "\n",
      "           0       0.83      0.84      0.83       171\n",
      "           1       0.78      0.77      0.78       132\n",
      "\n",
      "    accuracy                           0.81       303\n",
      "   macro avg       0.81      0.80      0.81       303\n",
      "weighted avg       0.81      0.81      0.81       303\n",
      "\n"
     ]
    }
   ],
   "source": [
    "print(confusion_matrix(Y_test, predict_voting))\n",
    "print(\"\\n\")\n",
    "print(classification_report(Y_test, predict_voting))"
   ]
  },
  {
   "cell_type": "raw",
   "id": "697e7631",
   "metadata": {},
   "source": [
    "Sensitivity in svm model is 0.78 and specificity is 0.83  "
   ]
  },
  {
   "cell_type": "code",
   "execution_count": 120,
   "id": "46a6fe1f",
   "metadata": {},
   "outputs": [
    {
     "data": {
      "text/html": [
       "<div>\n",
       "<style scoped>\n",
       "    .dataframe tbody tr th:only-of-type {\n",
       "        vertical-align: middle;\n",
       "    }\n",
       "\n",
       "    .dataframe tbody tr th {\n",
       "        vertical-align: top;\n",
       "    }\n",
       "\n",
       "    .dataframe thead th {\n",
       "        text-align: right;\n",
       "    }\n",
       "</style>\n",
       "<table border=\"1\" class=\"dataframe\">\n",
       "  <thead>\n",
       "    <tr style=\"text-align: right;\">\n",
       "      <th></th>\n",
       "      <th>Model</th>\n",
       "      <th>Accuracy training set</th>\n",
       "      <th>Accuracy test set</th>\n",
       "      <th>sensitivity</th>\n",
       "      <th>specificity</th>\n",
       "    </tr>\n",
       "  </thead>\n",
       "  <tbody>\n",
       "    <tr>\n",
       "      <th>0</th>\n",
       "      <td>Logistic</td>\n",
       "      <td>0.77</td>\n",
       "      <td>0.76</td>\n",
       "      <td>0.74</td>\n",
       "      <td>0.78</td>\n",
       "    </tr>\n",
       "    <tr>\n",
       "      <th>1</th>\n",
       "      <td>SVM</td>\n",
       "      <td>0.88</td>\n",
       "      <td>0.82</td>\n",
       "      <td>0.82</td>\n",
       "      <td>0.80</td>\n",
       "    </tr>\n",
       "    <tr>\n",
       "      <th>2</th>\n",
       "      <td>Tree</td>\n",
       "      <td>0.83</td>\n",
       "      <td>0.74</td>\n",
       "      <td>0.67</td>\n",
       "      <td>0.81</td>\n",
       "    </tr>\n",
       "    <tr>\n",
       "      <th>3</th>\n",
       "      <td>KNN</td>\n",
       "      <td>0.83</td>\n",
       "      <td>0.80</td>\n",
       "      <td>0.79</td>\n",
       "      <td>0.81</td>\n",
       "    </tr>\n",
       "    <tr>\n",
       "      <th>4</th>\n",
       "      <td>Perceptron</td>\n",
       "      <td>0.78</td>\n",
       "      <td>0.74</td>\n",
       "      <td>0.69</td>\n",
       "      <td>0.81</td>\n",
       "    </tr>\n",
       "    <tr>\n",
       "      <th>5</th>\n",
       "      <td>Neural Net</td>\n",
       "      <td>0.90</td>\n",
       "      <td>0.80</td>\n",
       "      <td>0.78</td>\n",
       "      <td>0.81</td>\n",
       "    </tr>\n",
       "    <tr>\n",
       "      <th>6</th>\n",
       "      <td>Adaboost</td>\n",
       "      <td>0.73</td>\n",
       "      <td>0.72</td>\n",
       "      <td>0.72</td>\n",
       "      <td>0.71</td>\n",
       "    </tr>\n",
       "    <tr>\n",
       "      <th>7</th>\n",
       "      <td>Xgboost</td>\n",
       "      <td>0.84</td>\n",
       "      <td>0.79</td>\n",
       "      <td>0.73</td>\n",
       "      <td>0.78</td>\n",
       "    </tr>\n",
       "    <tr>\n",
       "      <th>8</th>\n",
       "      <td>Bagging</td>\n",
       "      <td>0.76</td>\n",
       "      <td>0.80</td>\n",
       "      <td>0.76</td>\n",
       "      <td>0.82</td>\n",
       "    </tr>\n",
       "    <tr>\n",
       "      <th>9</th>\n",
       "      <td>Random Forest</td>\n",
       "      <td>0.81</td>\n",
       "      <td>0.81</td>\n",
       "      <td>0.79</td>\n",
       "      <td>0.83</td>\n",
       "    </tr>\n",
       "    <tr>\n",
       "      <th>10</th>\n",
       "      <td>Voting Ensemble</td>\n",
       "      <td>0.82</td>\n",
       "      <td>0.81</td>\n",
       "      <td>0.78</td>\n",
       "      <td>0.83</td>\n",
       "    </tr>\n",
       "  </tbody>\n",
       "</table>\n",
       "</div>"
      ],
      "text/plain": [
       "              Model  Accuracy training set  Accuracy test set  sensitivity  \\\n",
       "0          Logistic                   0.77               0.76         0.74   \n",
       "1               SVM                   0.88               0.82         0.82   \n",
       "2              Tree                   0.83               0.74         0.67   \n",
       "3               KNN                   0.83               0.80         0.79   \n",
       "4        Perceptron                   0.78               0.74         0.69   \n",
       "5        Neural Net                   0.90               0.80         0.78   \n",
       "6          Adaboost                   0.73               0.72         0.72   \n",
       "7           Xgboost                   0.84               0.79         0.73   \n",
       "8           Bagging                   0.76               0.80         0.76   \n",
       "9     Random Forest                   0.81               0.81         0.79   \n",
       "10  Voting Ensemble                   0.82               0.81         0.78   \n",
       "\n",
       "    specificity  \n",
       "0          0.78  \n",
       "1          0.80  \n",
       "2          0.81  \n",
       "3          0.81  \n",
       "4          0.81  \n",
       "5          0.81  \n",
       "6          0.71  \n",
       "7          0.78  \n",
       "8          0.82  \n",
       "9          0.83  \n",
       "10         0.83  "
      ]
     },
     "execution_count": 120,
     "metadata": {},
     "output_type": "execute_result"
    }
   ],
   "source": [
    "comp1=pd.read_csv(r'C:\\Users\\Administrator\\Desktop\\ml_project\\bace\\comp1.csv')\n",
    "comp2=pd.read_csv(r'C:\\Users\\Administrator\\Desktop\\ml_project\\bace\\comp2.csv')\n",
    "comp1"
   ]
  },
  {
   "cell_type": "code",
   "execution_count": 112,
   "id": "81d89889",
   "metadata": {},
   "outputs": [
    {
     "data": {
      "image/png": "[encoded data removed]",
      "text/plain": [
       "<Figure size 1332x756 with 1 Axes>"
      ]
     },
     "metadata": {},
     "output_type": "display_data"
    }
   ],
   "source": [
    "import matplotlib.pyplot as plt\n",
    "\n",
    "plt.bar(comp['Model'], comp['Accuracy training set'], color ='green',\n",
    "        width = 0.5)\n",
    "plt.xlabel(\"Courses offered\")\n",
    "plt.ylabel(\"Accuracy training set\")\n",
    "plt.title(\"Accuracy training set\")\n",
    "fig = plt.gcf()\n",
    "fig.set_size_inches(18.5, 10.5)\n",
    "fig.savefig('test2png.png', dpi=100)\n",
    "plt.show()"
   ]
  },
  {
   "cell_type": "code",
   "execution_count": 124,
   "id": "738afeb1",
   "metadata": {},
   "outputs": [
    {
     "data": {
      "image/png": "[encoded data removed]",
      "text/plain": [
       "<Figure size 1332x756 with 1 Axes>"
      ]
     },
     "metadata": {},
     "output_type": "display_data"
    }
   ],
   "source": [
    "import matplotlib.pyplot as plt\n",
    "\n",
    "plt.bar(comp['Model'], comp['Accuracy test set'], color ='blue',\n",
    "        width = 0.5)\n",
    "plt.xlabel(\"Courses offered\")\n",
    "plt.ylabel(\"Accuracy test set\")\n",
    "plt.title(\"Accuracy test set\")\n",
    "fig = plt.gcf()\n",
    "fig.set_size_inches(18.5, 10.5)\n",
    "fig.savefig('test2png.png', dpi=100)\n",
    "plt.show()"
   ]
  },
  {
   "cell_type": "code",
   "execution_count": 123,
   "id": "dffc29d3",
   "metadata": {},
   "outputs": [
    {
     "data": {
      "image/png": "[encoded data removed]",
      "text/plain": [
       "<Figure size 576x432 with 1 Axes>"
      ]
     },
     "metadata": {},
     "output_type": "display_data"
    }
   ],
   "source": [
    "plt.style.use(\"fivethirtyeight\")\n",
    "fig, ax = plt.subplots(1,1, figsize = (8,6))\n",
    "label = comp1[\"Model\"]\n",
    "x = np.arange(len(label))\n",
    "width = 0.3\n",
    "rect1 = ax.bar(x - width/2,comp1[\"Accuracy training set\"], width = width, \n",
    "               label = \"Accuracy training set\",edgecolor = \"black\")\n",
    "rect2 = ax.bar(x + width/2,comp1[\"Accuracy test set\"],width = width,\n",
    "              label = \"Accuracy test set\",edgecolor = \"black\")\n",
    "ax.set_ylabel(\"Accuracy\",fontsize = 20,labelpad = 20)\n",
    "ax.set_xlabel(\"Model\",fontsize = 20,labelpad =20)\n",
    "ax.set_xticks(x)\n",
    "ax.set_xticklabels(label)\n",
    "ax.legend(fontsize = 8)\n",
    "ax.tick_params(axis = \"x\",which = \"both\",labelrotation = 90)\n",
    "ax.tick_params(axis = \"y\",which = \"both\",labelsize = 15)"
   ]
  }
 ],
 "metadata": {
  "kernelspec": {
   "display_name": "Python 3 (ipykernel)",
   "language": "python",
   "name": "python3"
  },
  "language_info": {
   "codemirror_mode": {
    "name": "ipython",
    "version": 3
   },
   "file_extension": ".py",
   "mimetype": "text/x-python",
   "name": "python",
   "nbconvert_exporter": "python",
   "pygments_lexer": "ipython3",
   "version": "3.9.0"
  }
 },
 "nbformat": 4,
 "nbformat_minor": 5
}
